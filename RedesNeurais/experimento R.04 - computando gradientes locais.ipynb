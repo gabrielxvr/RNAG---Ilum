{
 "cells": [
  {
   "cell_type": "markdown",
   "metadata": {},
   "source": [
    "Computando os gradientes locais automaticamente\n",
    "===============================================\n",
    "\n"
   ]
  },
  {
   "cell_type": "markdown",
   "metadata": {},
   "source": [
    "## Introdução\n",
    "\n"
   ]
  },
  {
   "cell_type": "markdown",
   "metadata": {},
   "source": [
    "Em um notebook anterior nós criamos uma classe chamada `Valor` que serviu de base para registrar o nosso `grafo computacional`. Este foi um passo importantíssimo para construirmos a nossa rede neural artificial.\n",
    "\n",
    "Neste notebook nós vamos atualizar a classe `Valor` para que ela seja capaz de computar o gradiente local de cada vértice numérico do grafo computacional. Esse cálculo será feito &ldquo;de trás para frente&rdquo;, iniciando pelo vértice folha e retornando até os vértices raiz. O nome desse processo é `backpropagation` e é o coração do processo de treinar uma rede neural artificial.\n",
    "\n"
   ]
  },
  {
   "cell_type": "markdown",
   "metadata": {},
   "source": [
    "## Importações\n",
    "\n"
   ]
  },
  {
   "cell_type": "code",
   "execution_count": 1,
   "metadata": {},
   "outputs": [],
   "source": [
    "from funcoes import plota_grafo"
   ]
  },
  {
   "cell_type": "markdown",
   "metadata": {},
   "source": [
    "## Código e discussão\n",
    "\n"
   ]
  },
  {
   "cell_type": "markdown",
   "metadata": {},
   "source": [
    "### Relembrando o que temos\n",
    "\n"
   ]
  },
  {
   "cell_type": "markdown",
   "metadata": {},
   "source": [
    "No notebook anterior construímos a seguinte classe chamada `Valor`:\n",
    "\n"
   ]
  },
  {
   "cell_type": "code",
   "execution_count": 2,
   "metadata": {},
   "outputs": [],
   "source": [
    "class Valor:\n",
    "    def __init__(self, data, progenitor=(), operador_mae=\"\", rotulo=\"\"):\n",
    "        self.data = data\n",
    "        self.progenitor = progenitor\n",
    "        self.operador_mae = operador_mae\n",
    "        self.rotulo = rotulo\n",
    "\n",
    "    def __repr__(self):\n",
    "        return f\"Valor(data={self.data})\"\n",
    "\n",
    "    def __add__(self, outro_valor):\n",
    "        data = self.data + outro_valor.data\n",
    "        progenitor = (self, outro_valor)\n",
    "        operador_mae = \"+\"\n",
    "        saida = Valor(data, progenitor, operador_mae)\n",
    "        return saida\n",
    "\n",
    "    def __mul__(self, outro_valor):\n",
    "        data = self.data * outro_valor.data\n",
    "        progenitor = (self, outro_valor)\n",
    "        operador_mae = \"*\"\n",
    "        saida = Valor(data, progenitor, operador_mae)\n",
    "        return saida"
   ]
  },
  {
   "cell_type": "markdown",
   "metadata": {},
   "source": [
    "Com essa classe nós conseguimos plotar o grafo computacional que criamos na primeira aula sobre redes neurais artificiais usando a função `plota_grafo` criada por Andrej. Esse grafo computacional representa uma rede neural que nós criamos para prever o valor $y$.\n",
    "\n"
   ]
  },
  {
   "cell_type": "code",
   "execution_count": 3,
   "metadata": {},
   "outputs": [
    {
     "name": "stdout",
     "output_type": "stream",
     "text": [
      "digraph {\n",
      "\tgraph [rankdir=LR]\n",
      "\t2012316070432 [label=\"{ k | data 727.0000 }\" shape=record]\n",
      "\t\"2012316070432+\" [label=\"+\"]\n",
      "\t\"2012316070432+\" -> 2012316070432\n",
      "\t2012316070480 [label=\"{ s2 | data 120.0000 }\" shape=record]\n",
      "\t\"2012316070480*\" [label=\"*\"]\n",
      "\t\"2012316070480*\" -> 2012316070480\n",
      "\t2012316070528 [label=\"{ n | data 720.0000 }\" shape=record]\n",
      "\t\"2012316070528+\" [label=\"+\"]\n",
      "\t\"2012316070528+\" -> 2012316070528\n",
      "\t2012316070576 [label=\"{ y | data 1454.0000 }\" shape=record]\n",
      "\t\"2012316070576*\" [label=\"*\"]\n",
      "\t\"2012316070576*\" -> 2012316070576\n",
      "\t2012316078864 [label=\"{ x1 | data 60.0000 }\" shape=record]\n",
      "\t2012316080928 [label=\"{ s1 | data 600.0000 }\" shape=record]\n",
      "\t\"2012316080928*\" [label=\"*\"]\n",
      "\t\"2012316080928*\" -> 2012316080928\n",
      "\t2012316078384 [label=\"{ x2 | data 24.0000 }\" shape=record]\n",
      "\t2012316081984 [label=\"{ w2 | data 5.0000 }\" shape=record]\n",
      "\t2012316081024 [label=\"{ b | data 7.0000 }\" shape=record]\n",
      "\t2012316082080 [label=\"{ w1 | data 10.0000 }\" shape=record]\n",
      "\t2012316081120 [label=\"{ w3 | data 2.0000 }\" shape=record]\n",
      "\t2012316081984 -> \"2012316070480*\"\n",
      "\t2012316078384 -> \"2012316070480*\"\n",
      "\t2012316080928 -> \"2012316070528+\"\n",
      "\t2012316078864 -> \"2012316080928*\"\n",
      "\t2012316070480 -> \"2012316070528+\"\n",
      "\t2012316081120 -> \"2012316070576*\"\n",
      "\t2012316082080 -> \"2012316080928*\"\n",
      "\t2012316070432 -> \"2012316070576*\"\n",
      "\t2012316081024 -> \"2012316070432+\"\n",
      "\t2012316070528 -> \"2012316070432+\"\n",
      "}\n",
      "\n"
     ]
    }
   ],
   "source": [
    "x1 = Valor(60, rotulo=\"x1\")\n",
    "x2 = Valor(24, rotulo=\"x2\")\n",
    "w1 = Valor(10, rotulo=\"w1\")\n",
    "w2 = Valor(5, rotulo=\"w2\")\n",
    "w3 = Valor(2, rotulo=\"w3\")\n",
    "b = Valor(7, rotulo=\"b\")\n",
    "\n",
    "s1 = x1 * w1\n",
    "s1.rotulo = \"s1\"\n",
    "\n",
    "s2 = x2 * w2\n",
    "s2.rotulo = \"s2\"\n",
    "\n",
    "n = s1 + s2\n",
    "n.rotulo = \"n\"\n",
    "\n",
    "k = n + b\n",
    "k.rotulo = \"k\"\n",
    "\n",
    "y = k * w3\n",
    "y.rotulo = \"y\"\n",
    "\n",
    "grafo = plota_grafo(y)\n",
    "print(grafo)"
   ]
  },
  {
   "cell_type": "markdown",
   "metadata": {},
   "source": [
    "### Preparando o terreno para o cálculo do gradiente local\n",
    "\n"
   ]
  },
  {
   "cell_type": "markdown",
   "metadata": {},
   "source": [
    "Cada valor numérico do grafo computacional deve ter um valor de `gradiente local` associado a ele. O gradiente local representa a derivada parcial do vértice final do grafo computacional (que é $y$ no nosso caso, também conhecido como vértice folha) em relação a o valor do vértice em questão.\n",
    "\n",
    "Suponha que nosso vértice folha se chame $y$. Agora suponha que nós temos um vértice qualquer no nosso grafo computacional que se chama $w_2$. O gradiente local de $w_2$ nada mais é do que:\n",
    "\n",
    "$$\n",
    "\\frac{\\partial y}{\\partial w_2}\n",
    "$$\n",
    "\n",
    "Se cada valor tem um gradiente local, então precisamos registrar isso na nossa classe. Vamos criar uma propriedade chamada `grad`. Vamos dar o valor padrão de zero para essa propriedade. Na próxima seção iremos alterar esse valor.\n",
    "\n"
   ]
  },
  {
   "cell_type": "code",
   "execution_count": 4,
   "metadata": {},
   "outputs": [],
   "source": [
    "class Valor:\n",
    "    def __init__(self, data, progenitor=(), operador_mae=\"\", rotulo=\"\"):\n",
    "        self.data = data\n",
    "        self.progenitor = progenitor\n",
    "        self.operador_mae = operador_mae\n",
    "        self.rotulo = rotulo\n",
    "        self.grad = 0\n",
    "\n",
    "    def __repr__(self):\n",
    "        return f\"Valor(data={self.data})\"\n",
    "\n",
    "    def __add__(self, outro_valor):\n",
    "        data = self.data + outro_valor.data\n",
    "        progenitor = (self, outro_valor)\n",
    "        operador_mae = \"+\"\n",
    "        saida = Valor(data, progenitor, operador_mae)\n",
    "        return saida\n",
    "\n",
    "    def __mul__(self, outro_valor):\n",
    "        data = self.data * outro_valor.data\n",
    "        progenitor = (self, outro_valor)\n",
    "        operador_mae = \"*\"\n",
    "        saida = Valor(data, progenitor, operador_mae)\n",
    "        return saida"
   ]
  },
  {
   "cell_type": "markdown",
   "metadata": {},
   "source": [
    "Com essa alteração, agora o grafo computacional mostra o gradiente! Mas o valor do gradiente ainda está errado&#x2026;\n",
    "\n"
   ]
  },
  {
   "cell_type": "code",
   "execution_count": 5,
   "metadata": {},
   "outputs": [
    {
     "name": "stdout",
     "output_type": "stream",
     "text": [
      "digraph {\n",
      "\tgraph [rankdir=LR]\n",
      "\t2012316071488 [label=\"{ y | data 1454.0000 | grad 0.0000 }\" shape=record]\n",
      "\t\"2012316071488*\" [label=\"*\"]\n",
      "\t\"2012316071488*\" -> 2012316071488\n",
      "\t2012316139584 [label=\"{ b | data 7.0000 | grad 0.0000 }\" shape=record]\n",
      "\t2012315523968 [label=\"{ w1 | data 10.0000 | grad 0.0000 }\" shape=record]\n",
      "\t2012315522144 [label=\"{ w3 | data 2.0000 | grad 0.0000 }\" shape=record]\n",
      "\t2012316139680 [label=\"{ s1 | data 600.0000 | grad 0.0000 }\" shape=record]\n",
      "\t\"2012316139680*\" [label=\"*\"]\n",
      "\t\"2012316139680*\" -> 2012316139680\n",
      "\t2012315522720 [label=\"{ x2 | data 24.0000 | grad 0.0000 }\" shape=record]\n",
      "\t2012315524880 [label=\"{ w2 | data 5.0000 | grad 0.0000 }\" shape=record]\n",
      "\t2012316139824 [label=\"{ n | data 720.0000 | grad 0.0000 }\" shape=record]\n",
      "\t\"2012316139824+\" [label=\"+\"]\n",
      "\t\"2012316139824+\" -> 2012316139824\n",
      "\t2012315524400 [label=\"{ x1 | data 60.0000 | grad 0.0000 }\" shape=record]\n",
      "\t2012316139872 [label=\"{ s2 | data 120.0000 | grad 0.0000 }\" shape=record]\n",
      "\t\"2012316139872*\" [label=\"*\"]\n",
      "\t\"2012316139872*\" -> 2012316139872\n",
      "\t2012316071296 [label=\"{ k | data 727.0000 | grad 0.0000 }\" shape=record]\n",
      "\t\"2012316071296+\" [label=\"+\"]\n",
      "\t\"2012316071296+\" -> 2012316071296\n",
      "\t2012315522144 -> \"2012316071488*\"\n",
      "\t2012315524400 -> \"2012316139680*\"\n",
      "\t2012315523968 -> \"2012316139680*\"\n",
      "\t2012316071296 -> \"2012316071488*\"\n",
      "\t2012316139680 -> \"2012316139824+\"\n",
      "\t2012315522720 -> \"2012316139872*\"\n",
      "\t2012315524880 -> \"2012316139872*\"\n",
      "\t2012316139872 -> \"2012316139824+\"\n",
      "\t2012316139584 -> \"2012316071296+\"\n",
      "\t2012316139824 -> \"2012316071296+\"\n",
      "}\n",
      "\n"
     ]
    }
   ],
   "source": [
    "x1 = Valor(60, rotulo=\"x1\")\n",
    "x2 = Valor(24, rotulo=\"x2\")\n",
    "w1 = Valor(10, rotulo=\"w1\")\n",
    "w2 = Valor(5, rotulo=\"w2\")\n",
    "w3 = Valor(2, rotulo=\"w3\")\n",
    "b = Valor(7, rotulo=\"b\")\n",
    "\n",
    "s1 = x1 * w1\n",
    "s1.rotulo = \"s1\"\n",
    "\n",
    "s2 = x2 * w2\n",
    "s2.rotulo = \"s2\"\n",
    "\n",
    "n = s1 + s2\n",
    "n.rotulo = \"n\"\n",
    "\n",
    "k = n + b\n",
    "k.rotulo = \"k\"\n",
    "\n",
    "y = k * w3\n",
    "y.rotulo = \"y\"\n",
    "\n",
    "grafo = plota_grafo(y)\n",
    "print(grafo)"
   ]
  },
  {
   "cell_type": "markdown",
   "metadata": {},
   "source": [
    "### Calculando o gradiente local &ldquo;na mão&rdquo;\n",
    "\n"
   ]
  },
  {
   "cell_type": "markdown",
   "metadata": {},
   "source": [
    "Vamos relembrar o cálculo do gradiente local e calcular os gradientes na mão! Para isso usaremos de noções básicas de derivada e da regra da cadeia.\n",
    "\n"
   ]
  },
  {
   "cell_type": "code",
   "execution_count": 6,
   "metadata": {},
   "outputs": [
    {
     "name": "stdout",
     "output_type": "stream",
     "text": [
      "digraph {\n",
      "\tgraph [rankdir=LR]\n",
      "\t2012316057120 [label=\"{ k | data 727.0000 | grad 2.0000 }\" shape=record]\n",
      "\t\"2012316057120+\" [label=\"+\"]\n",
      "\t\"2012316057120+\" -> 2012316057120\n",
      "\t2012316053616 [label=\"{ s2 | data 120.0000 | grad 2.0000 }\" shape=record]\n",
      "\t\"2012316053616*\" [label=\"*\"]\n",
      "\t\"2012316053616*\" -> 2012316053616\n",
      "\t2012316071536 [label=\"{ w2 | data 5.0000 | grad 48.0000 }\" shape=record]\n",
      "\t2012316071056 [label=\"{ b | data 7.0000 | grad 2.0000 }\" shape=record]\n",
      "\t2012316072064 [label=\"{ w3 | data 2.0000 | grad 727.0000 }\" shape=record]\n",
      "\t2012316055728 [label=\"{ y | data 1454.0000 | grad 1.0000 }\" shape=record]\n",
      "\t\"2012316055728*\" [label=\"*\"]\n",
      "\t\"2012316055728*\" -> 2012316055728\n",
      "\t2012316073648 [label=\"{ w1 | data 10.0000 | grad 120.0000 }\" shape=record]\n",
      "\t2012316054240 [label=\"{ n | data 720.0000 | grad 2.0000 }\" shape=record]\n",
      "\t\"2012316054240+\" [label=\"+\"]\n",
      "\t\"2012316054240+\" -> 2012316054240\n",
      "\t2012316070672 [label=\"{ s1 | data 600.0000 | grad 2.0000 }\" shape=record]\n",
      "\t\"2012316070672*\" [label=\"*\"]\n",
      "\t\"2012316070672*\" -> 2012316070672\n",
      "\t2012316072208 [label=\"{ x1 | data 60.0000 | grad 20.0000 }\" shape=record]\n",
      "\t2012316078384 [label=\"{ x2 | data 24.0000 | grad 10.0000 }\" shape=record]\n",
      "\t2012316078384 -> \"2012316053616*\"\n",
      "\t2012316073648 -> \"2012316070672*\"\n",
      "\t2012316072064 -> \"2012316055728*\"\n",
      "\t2012316071056 -> \"2012316057120+\"\n",
      "\t2012316070672 -> \"2012316054240+\"\n",
      "\t2012316071536 -> \"2012316053616*\"\n",
      "\t2012316053616 -> \"2012316054240+\"\n",
      "\t2012316057120 -> \"2012316055728*\"\n",
      "\t2012316054240 -> \"2012316057120+\"\n",
      "\t2012316072208 -> \"2012316070672*\"\n",
      "}\n",
      "\n"
     ]
    }
   ],
   "source": [
    "x1 = Valor(60, rotulo=\"x1\")\n",
    "x2 = Valor(24, rotulo=\"x2\")\n",
    "w1 = Valor(10, rotulo=\"w1\")\n",
    "w2 = Valor(5, rotulo=\"w2\")\n",
    "w3 = Valor(2, rotulo=\"w3\")\n",
    "b = Valor(7, rotulo=\"b\")\n",
    "\n",
    "s1 = x1 * w1\n",
    "s1.rotulo = \"s1\"\n",
    "\n",
    "s2 = x2 * w2\n",
    "s2.rotulo = \"s2\"\n",
    "\n",
    "n = s1 + s2\n",
    "n.rotulo = \"n\"\n",
    "\n",
    "k = n + b\n",
    "k.rotulo = \"k\"\n",
    "\n",
    "y = k * w3\n",
    "y.rotulo = \"y\"\n",
    "\n",
    "y.grad = 1 # dy/dy  (esse é o vértice folha!)\n",
    "\n",
    "w3.grad = y.grad * k.data # dy/dw3\n",
    "k.grad = y.grad * w3.data # dy/dk\n",
    "\n",
    "b.grad = k.grad * 1 # dy/db = dy/dk * dk/db\n",
    "n.grad = k.grad * 1 # dy/dn = dy/dk * dk/dn\n",
    "\n",
    "s2.grad = n.grad * 1 # dy/ds2 = dy/dn * dn/s2\n",
    "s1.grad = n.grad * 1 # dy/ds1 = dy/dn * dn/s1\n",
    "\n",
    "x2.grad = s2.grad * w2.data # dy/dx2 = dy/ds2 * ds2/dx2\n",
    "w2.grad = s2.grad * x2.data # dy/dw2 = dy/ds2 * ds2/dw2\n",
    "\n",
    "x1.grad = s1.grad * w1.data # dy/dx1 = dy/ds1 * ds1/dx1\n",
    "w1.grad = s1.grad * x1.data # dy/dw1 = dy/ds1 * ds1/dw1\n",
    "\n",
    "grafo = plota_grafo(y)\n",
    "print(grafo)"
   ]
  },
  {
   "cell_type": "markdown",
   "metadata": {},
   "source": [
    "### Treinando uma rede neural &ldquo;na mão&rdquo;\n",
    "\n"
   ]
  },
  {
   "cell_type": "markdown",
   "metadata": {},
   "source": [
    "Agora que temos um grafo computacional com todos os gradientes locais calculados, podemos treinar a nossa rede neural manualmente.\n",
    "\n",
    "Suponha, por um momento, que eu queira aumentar o valor de $y$ de saída da minha rede neural. Tem duas coisas que eu sei:\n",
    "\n",
    "1.  eu posso apenas alterar os parâmetros internos da minha rede neural, isto é: $w_1$, $w_2$, $w_3$ e $b$. Os demais parâmetros eu não posso alterar pois ou são dados de entrada ($x_1$ e $x_2$) ou são parâmetros derivados de outros parâmetros ($k$, $n$, $s_1$, $s_2$ e $y$).\n",
    "\n",
    "2.  o gradiente local indica o &ldquo;impacto&rdquo; que teremos no valor de $y$. Um gradiente local positivo me indica que ao aumentar o respectivo valor do vértice eu aumento o valor de $y$. Um gradiente local negativo me indica que ao aumentar o respectivo valor do vértice eu diminuo o valor de $y$.\n",
    "\n",
    "Sabendo destes dois fatos, como que eu posso aumentar o valor de saída de $y$ apenas alterando os parâmetros internos da minha rede neural?\n",
    "\n"
   ]
  },
  {
   "cell_type": "code",
   "execution_count": 11,
   "metadata": {},
   "outputs": [
    {
     "name": "stdout",
     "output_type": "stream",
     "text": [
      "digraph {\n",
      "\tgraph [rankdir=LR]\n",
      "\t2012316166704 [label=\"{ s2 | data 119.1642 | grad 1.9833 }\" shape=record]\n",
      "\t\"2012316166704*\" [label=\"*\"]\n",
      "\t\"2012316166704*\" -> 2012316166704\n",
      "\t2012316071536 [label=\"{ w2 | data 4.9652 | grad 47.5998 }\" shape=record]\n",
      "\t2012316166272 [label=\"{ s1 | data 594.7765 | grad 1.9833 }\" shape=record]\n",
      "\t\"2012316166272*\" [label=\"*\"]\n",
      "\t\"2012316166272*\" -> 2012316166272\n",
      "\t2012316071056 [label=\"{ b | data 6.9985 | grad 1.9833 }\" shape=record]\n",
      "\t2012316072064 [label=\"{ w3 | data 1.9833 | grad 720.9393 }\" shape=record]\n",
      "\t2012316073648 [label=\"{ w1 | data 9.9129 | grad 118.9996 }\" shape=record]\n",
      "\t2012316165888 [label=\"{ y | data 1429.8584 | grad 1.0000 }\" shape=record]\n",
      "\t\"2012316165888*\" [label=\"*\"]\n",
      "\t\"2012316165888*\" -> 2012316165888\n",
      "\t2012316072208 [label=\"{ x1 | data 60.0000 | grad 19.6606 }\" shape=record]\n",
      "\t2012316078384 [label=\"{ x2 | data 24.0000 | grad 9.8476 }\" shape=record]\n",
      "\t2012316165984 [label=\"{ n | data 713.9408 | grad 1.9833 }\" shape=record]\n",
      "\t\"2012316165984+\" [label=\"+\"]\n",
      "\t\"2012316165984+\" -> 2012316165984\n",
      "\t2012316166128 [label=\"{ k | data 720.9393 | grad 1.9833 }\" shape=record]\n",
      "\t\"2012316166128+\" [label=\"+\"]\n",
      "\t\"2012316166128+\" -> 2012316166128\n",
      "\t2012316165984 -> \"2012316166128+\"\n",
      "\t2012316071056 -> \"2012316166128+\"\n",
      "\t2012316078384 -> \"2012316166704*\"\n",
      "\t2012316166128 -> \"2012316165888*\"\n",
      "\t2012316072064 -> \"2012316165888*\"\n",
      "\t2012316073648 -> \"2012316166272*\"\n",
      "\t2012316166272 -> \"2012316165984+\"\n",
      "\t2012316166704 -> \"2012316165984+\"\n",
      "\t2012316071536 -> \"2012316166704*\"\n",
      "\t2012316072208 -> \"2012316166272*\"\n",
      "}\n",
      "\n"
     ]
    }
   ],
   "source": [
    "taxa_de_aprendizado = 0.001\n",
    "\n",
    "w1.data = w1.data + w1.grad * taxa_de_aprendizado\n",
    "w2.data = w2.data + w2.grad * taxa_de_aprendizado\n",
    "w3.data = w3.data + w3.grad * taxa_de_aprendizado\n",
    "b.data = b.data + b.grad * taxa_de_aprendizado\n",
    "\n",
    "s1 = x1 * w1\n",
    "s1.rotulo = \"s1\"\n",
    "\n",
    "s2 = x2 * w2\n",
    "s2.rotulo = \"s2\"\n",
    "\n",
    "n = s1 + s2\n",
    "n.rotulo = \"n\"\n",
    "\n",
    "k = n + b\n",
    "k.rotulo = \"k\"\n",
    "\n",
    "y = k * w3\n",
    "y.rotulo = \"y\"\n",
    "\n",
    "y.grad = 1 # dy/dy  (esse é o vértice folha!)\n",
    "\n",
    "w3.grad = y.grad * k.data # dy/dw3\n",
    "k.grad = y.grad * w3.data # dy/dk\n",
    "\n",
    "b.grad = k.grad * 1 # dy/db = dy/dk * dk/db\n",
    "n.grad = k.grad * 1 # dy/dn = dy/dk * dk/dn\n",
    "\n",
    "s2.grad = n.grad * 1 # dy/ds2 = dy/dn * dn/s2\n",
    "s1.grad = n.grad * 1 # dy/ds1 = dy/dn * dn/s1\n",
    "\n",
    "x2.grad = s2.grad * w2.data # dy/dx2 = dy/ds2 * ds2/dx2\n",
    "w2.grad = s2.grad * x2.data # dy/dw2 = dy/ds2 * ds2/dw2\n",
    "\n",
    "x1.grad = s1.grad * w1.data # dy/dx1 = dy/ds1 * ds1/dx1\n",
    "w1.grad = s1.grad * x1.data # dy/dw1 = dy/ds1 * ds1/dw1\n",
    "\n",
    "grafo = plota_grafo(y)\n",
    "print(grafo)"
   ]
  },
  {
   "cell_type": "markdown",
   "metadata": {},
   "source": [
    "### Cálculo automático do gradiente local\n",
    "\n"
   ]
  },
  {
   "cell_type": "markdown",
   "metadata": {},
   "source": [
    "Calcular o gradiente local &ldquo;na mão&rdquo; não é a tarefa mais rápida nem a mais prazerosa que existe. Você certamente consegue pensar em uma, quem sabe até duas tarefas mais rápidas e prazerosas que essa. Tendo observado isso, pessoas refletiram se não seria possível de realizar esse cálculo de maneira automática para sobrar mais tempo na vida para se dedicar a outras tarefas. *Spoiler*: é possível!\n",
    "\n",
    "Nossa classe `Valor` agora terá um método chamado `propagar`. Esse método irá, como o nome sugere, propagar o gradiente local de um certo vértice para seus progenitores.\n",
    "\n",
    "Como padrão, o método `propagar` não irá fazer nada. Isso será o caso de vértices raiz que não têm progenitores (se não tem progenitor, então não tem o que propagar!).\n",
    "\n",
    "Quando um vértice tem progenitores, daí teremos que sobrescrever o método `propagar` para que ele efetivamente propague os gradientes seguindo a regra da cadeia. Vamos fazer isso nos métodos `__add__` e `__mul__`.\n",
    "\n"
   ]
  },
  {
   "cell_type": "code",
   "execution_count": 12,
   "metadata": {},
   "outputs": [],
   "source": [
    "class Valor:\n",
    "    def __init__(self, data, progenitor=(), operador_mae=\"\", rotulo=\"\"):\n",
    "        self.data = data\n",
    "        self.progenitor = progenitor\n",
    "        self.operador_mae = operador_mae\n",
    "        self.rotulo = rotulo\n",
    "        self.grad = 0\n",
    "\n",
    "    def __repr__(self):\n",
    "        return f\"Valor(data={self.data})\"\n",
    "\n",
    "    def __add__(self, outro_valor):\n",
    "        data = self.data + outro_valor.data\n",
    "        progenitor = (self, outro_valor)\n",
    "        operador_mae = \"+\"\n",
    "        saida = Valor(data, progenitor, operador_mae)\n",
    "\n",
    "        def propagar_adicao():\n",
    "            self.grad = saida.grad * 1\n",
    "            outro_valor.grad = saida.grad * 1\n",
    "\n",
    "        saida.propagar = propagar_adicao\n",
    "\n",
    "        return saida\n",
    "\n",
    "    def __mul__(self, outro_valor):\n",
    "        data = self.data * outro_valor.data\n",
    "        progenitor = (self, outro_valor)\n",
    "        operador_mae = \"*\"\n",
    "        saida = Valor(data, progenitor, operador_mae)\n",
    "\n",
    "        def propagar_multiplicacao():\n",
    "            self.grad = saida.grad * outro_valor.data\n",
    "            outro_valor.grad = saida.grad * self.data\n",
    "\n",
    "        saida.propagar = propagar_multiplicacao\n",
    "\n",
    "        return saida\n",
    "\n",
    "    def propagar(self):\n",
    "        pass"
   ]
  },
  {
   "cell_type": "markdown",
   "metadata": {},
   "source": [
    "Vamos testar!!\n",
    "\n"
   ]
  },
  {
   "cell_type": "code",
   "execution_count": 13,
   "metadata": {},
   "outputs": [
    {
     "name": "stdout",
     "output_type": "stream",
     "text": [
      "digraph {\n",
      "\tgraph [rankdir=LR]\n",
      "\t2012316166656 [label=\"{ b | data 7.0000 | grad 2.0000 }\" shape=record]\n",
      "\t2012316166176 [label=\"{ s1 | data 600.0000 | grad 2.0000 }\" shape=record]\n",
      "\t\"2012316166176*\" [label=\"*\"]\n",
      "\t\"2012316166176*\" -> 2012316166176\n",
      "\t2012316166224 [label=\"{ w1 | data 10.0000 | grad 120.0000 }\" shape=record]\n",
      "\t2012316164736 [label=\"{ w2 | data 5.0000 | grad 48.0000 }\" shape=record]\n",
      "\t2012315437712 [label=\"{ y | data 1454.0000 | grad 1.0000 }\" shape=record]\n",
      "\t\"2012315437712*\" [label=\"*\"]\n",
      "\t\"2012315437712*\" -> 2012315437712\n",
      "\t2012315435696 [label=\"{ n | data 720.0000 | grad 2.0000 }\" shape=record]\n",
      "\t\"2012315435696+\" [label=\"+\"]\n",
      "\t\"2012315435696+\" -> 2012315435696\n",
      "\t2012316165936 [label=\"{ x1 | data 60.0000 | grad 20.0000 }\" shape=record]\n",
      "\t2012316142896 [label=\"{ s2 | data 120.0000 | grad 2.0000 }\" shape=record]\n",
      "\t\"2012316142896*\" [label=\"*\"]\n",
      "\t\"2012316142896*\" -> 2012316142896\n",
      "\t2012315436416 [label=\"{ k | data 727.0000 | grad 2.0000 }\" shape=record]\n",
      "\t\"2012315436416+\" [label=\"+\"]\n",
      "\t\"2012315436416+\" -> 2012315436416\n",
      "\t2012316167616 [label=\"{ w3 | data 2.0000 | grad 727.0000 }\" shape=record]\n",
      "\t2012316167664 [label=\"{ x2 | data 24.0000 | grad 10.0000 }\" shape=record]\n",
      "\t2012316165936 -> \"2012316166176*\"\n",
      "\t2012316142896 -> \"2012315435696+\"\n",
      "\t2012316166224 -> \"2012316166176*\"\n",
      "\t2012315436416 -> \"2012315437712*\"\n",
      "\t2012316166656 -> \"2012315436416+\"\n",
      "\t2012316167616 -> \"2012315437712*\"\n",
      "\t2012316166176 -> \"2012315435696+\"\n",
      "\t2012316167664 -> \"2012316142896*\"\n",
      "\t2012316164736 -> \"2012316142896*\"\n",
      "\t2012315435696 -> \"2012315436416+\"\n",
      "}\n",
      "\n"
     ]
    }
   ],
   "source": [
    "x1 = Valor(60, rotulo=\"x1\")\n",
    "x2 = Valor(24, rotulo=\"x2\")\n",
    "w1 = Valor(10, rotulo=\"w1\")\n",
    "w2 = Valor(5, rotulo=\"w2\")\n",
    "w3 = Valor(2, rotulo=\"w3\")\n",
    "b = Valor(7, rotulo=\"b\")\n",
    "\n",
    "s1 = x1 * w1\n",
    "s1.rotulo = \"s1\"\n",
    "\n",
    "s2 = x2 * w2\n",
    "s2.rotulo = \"s2\"\n",
    "\n",
    "n = s1 + s2\n",
    "n.rotulo = \"n\"\n",
    "\n",
    "k = n + b\n",
    "k.rotulo = \"k\"\n",
    "\n",
    "y = k * w3\n",
    "y.rotulo = \"y\"\n",
    "\n",
    "y.grad = 1  # precisamos iniciar o gradiente do vértice folha \"na mão\"\n",
    "y.propagar()\n",
    "k.propagar()\n",
    "w3.propagar()\n",
    "n.propagar()\n",
    "b.propagar()\n",
    "s1.propagar()\n",
    "s2.propagar()\n",
    "x1.propagar()\n",
    "w1.propagar()\n",
    "x2.propagar()\n",
    "w2.propagar()\n",
    "\n",
    "grafo = plota_grafo(y)\n",
    "print(grafo)"
   ]
  },
  {
   "cell_type": "markdown",
   "metadata": {},
   "source": [
    "### Autograd\n",
    "\n"
   ]
  },
  {
   "cell_type": "markdown",
   "metadata": {},
   "source": [
    "Temos, finalmente, todas as ferramentas para executar o que tanto queríamos: o algoritmo `backpropagation`. Para isso, nós tivemos que rodar o método `propagar` para todos os vértices do nosso grafo computacional. Seria tão mais interessante se esse processo todo fosse ainda mais automático!\n",
    "\n",
    "Como você deve imaginar, podemos sim deixar esse processo ainda mais automático. Trata-se do algoritmo `autograd`! O último passo aqui é criar um método chamado `propagar_tudo` que cuida de fazer isso para nós.\n",
    "\n",
    "O único detalhe que temos que nos atentar é que não podemos rodar o método `propagar` em qualquer ordem dos vértices do grafo computacional. Apenas podemos rodar esse método quando sabemos o gradiente local do vértice que irá propagar! Uma estratégia para nos ajudar aqui é fazer uma [ordenação topológica](https://en.wikipedia.org/wiki/Topological_sorting). Ordenação topológica é quando você ordena os vértices de um grafo direcional de forma que todas as setas apontem para a direita. Nota: não podemos realizar ordenação topológica em grafos cíclicos. Aqui usaremos o código pronto feito pelo Andrej Karpathy que resolve esse problema. Veja abaixo de forma gráfica como funciona a ordenação topológica.\n",
    "\n",
    "![img](https://i.imgur.com/Q3MA6dZ.png)\n",
    "\n"
   ]
  },
  {
   "cell_type": "code",
   "execution_count": 14,
   "metadata": {},
   "outputs": [],
   "source": [
    "class Valor:\n",
    "    def __init__(self, data, progenitor=(), operador_mae=\"\", rotulo=\"\"):\n",
    "        self.data = data\n",
    "        self.progenitor = progenitor\n",
    "        self.operador_mae = operador_mae\n",
    "        self.rotulo = rotulo\n",
    "        self.grad = 0\n",
    "\n",
    "    def __repr__(self):\n",
    "        return f\"Valor(data={self.data})\"\n",
    "\n",
    "    def __add__(self, outro_valor):\n",
    "        data = self.data + outro_valor.data\n",
    "        progenitor = (self, outro_valor)\n",
    "        operador_mae = \"+\"\n",
    "        saida = Valor(data, progenitor, operador_mae)\n",
    "\n",
    "        def propagar():\n",
    "            self.grad = saida.grad * 1\n",
    "            outro_valor.grad = saida.grad * 1\n",
    "\n",
    "        saida.propagar = propagar\n",
    "\n",
    "        return saida\n",
    "\n",
    "    def __mul__(self, outro_valor):\n",
    "        data = self.data * outro_valor.data\n",
    "        progenitor = (self, outro_valor)\n",
    "        operador_mae = \"*\"\n",
    "        saida = Valor(data, progenitor, operador_mae)\n",
    "\n",
    "        def propagar():\n",
    "            self.grad = saida.grad * outro_valor.data\n",
    "            outro_valor.grad = saida.grad * self.data\n",
    "\n",
    "        saida.propagar = propagar\n",
    "\n",
    "        return saida\n",
    "\n",
    "    def propagar(self):\n",
    "        pass\n",
    "\n",
    "    def propagar_tudo(self):\n",
    "        ordem_topologica = []\n",
    "        visitados = set()\n",
    "\n",
    "        def constroi_ordem_topologica(v):\n",
    "            if v not in visitados:\n",
    "                visitados.add(v)\n",
    "                for progenitor in v.progenitor:\n",
    "                    constroi_ordem_topologica(progenitor)\n",
    "                ordem_topologica.append(v)\n",
    "\n",
    "        constroi_ordem_topologica(self)\n",
    "\n",
    "        self.grad = 1  # o gradiente do vértice folha deve ser 1\n",
    "\n",
    "        for v in reversed(ordem_topologica):\n",
    "            v.propagar()"
   ]
  },
  {
   "cell_type": "markdown",
   "metadata": {},
   "source": [
    "Finalmente, depois de uma longa jornada, chegamos no nosso objetivo!\n",
    "\n"
   ]
  },
  {
   "cell_type": "code",
   "execution_count": 16,
   "metadata": {},
   "outputs": [
    {
     "name": "stdout",
     "output_type": "stream",
     "text": [
      "digraph {\n",
      "\tgraph [rankdir=LR]\n",
      "\t2012315524256 [label=\"{ x2 | data 24.0000 | grad 10.0000 }\" shape=record]\n",
      "\t2012315523248 [label=\"{ s1 | data 600.0000 | grad 2.0000 }\" shape=record]\n",
      "\t\"2012315523248*\" [label=\"*\"]\n",
      "\t\"2012315523248*\" -> 2012315523248\n",
      "\t2012315524832 [label=\"{ w1 | data 10.0000 | grad 120.0000 }\" shape=record]\n",
      "\t2012315523824 [label=\"{ b | data 7.0000 | grad 2.0000 }\" shape=record]\n",
      "\t2012315521808 [label=\"{ s2 | data 120.0000 | grad 2.0000 }\" shape=record]\n",
      "\t\"2012315521808*\" [label=\"*\"]\n",
      "\t\"2012315521808*\" -> 2012315521808\n",
      "\t2012315523920 [label=\"{ w3 | data 2.0000 | grad 727.0000 }\" shape=record]\n",
      "\t2012315522912 [label=\"{ k | data 727.0000 | grad 2.0000 }\" shape=record]\n",
      "\t\"2012315522912+\" [label=\"+\"]\n",
      "\t\"2012315522912+\" -> 2012315522912\n",
      "\t2012315524496 [label=\"{ w2 | data 5.0000 | grad 48.0000 }\" shape=record]\n",
      "\t2012315525024 [label=\"{ x1 | data 60.0000 | grad 20.0000 }\" shape=record]\n",
      "\t2012315524016 [label=\"{ n | data 720.0000 | grad 2.0000 }\" shape=record]\n",
      "\t\"2012315524016+\" [label=\"+\"]\n",
      "\t\"2012315524016+\" -> 2012315524016\n",
      "\t2012314849232 [label=\"{ y | data 1454.0000 | grad 1.0000 }\" shape=record]\n",
      "\t\"2012314849232*\" [label=\"*\"]\n",
      "\t\"2012314849232*\" -> 2012314849232\n",
      "\t2012315523920 -> \"2012314849232*\"\n",
      "\t2012315525024 -> \"2012315523248*\"\n",
      "\t2012315522912 -> \"2012314849232*\"\n",
      "\t2012315523824 -> \"2012315522912+\"\n",
      "\t2012315521808 -> \"2012315524016+\"\n",
      "\t2012315524832 -> \"2012315523248*\"\n",
      "\t2012315523248 -> \"2012315524016+\"\n",
      "\t2012315524496 -> \"2012315521808*\"\n",
      "\t2012315524256 -> \"2012315521808*\"\n",
      "\t2012315524016 -> \"2012315522912+\"\n",
      "}\n",
      "\n"
     ]
    }
   ],
   "source": [
    "x1 = Valor(60, rotulo=\"x1\")\n",
    "x2 = Valor(24, rotulo=\"x2\")\n",
    "w1 = Valor(10, rotulo=\"w1\")\n",
    "w2 = Valor(5, rotulo=\"w2\")\n",
    "w3 = Valor(2, rotulo=\"w3\")\n",
    "b = Valor(7, rotulo=\"b\")\n",
    "\n",
    "s1 = x1 * w1\n",
    "s1.rotulo = \"s1\"\n",
    "\n",
    "s2 = x2 * w2\n",
    "s2.rotulo = \"s2\"\n",
    "\n",
    "n = s1 + s2\n",
    "n.rotulo = \"n\"\n",
    "\n",
    "k = n + b\n",
    "k.rotulo = \"k\"\n",
    "\n",
    "y = k * w3\n",
    "y.rotulo = \"y\"\n",
    "\n",
    "y.propagar_tudo()\n",
    "\n",
    "grafo = plota_grafo(y)\n",
    "print(grafo)"
   ]
  },
  {
   "cell_type": "markdown",
   "metadata": {},
   "source": [
    "### Correção final para gradientes locais de funções de várias variáveis\n",
    "\n"
   ]
  },
  {
   "cell_type": "markdown",
   "metadata": {},
   "source": [
    "Existe um problema com o cálculo do gradiente local da forma que estamos fazendo. Este bug aparece quando um mesmo vértice é usado para mais de uma operação no grafo computacional. Observe a situação abaixo. O gradiente local de $a$ deveria ser 4, porém o grafo mostra como sendo 1. Isto acontece pois a regra da cadeia para funções de várias variáveis nos diz que devemos somar os gradientes do vértice cada vez que chegamos nele mesmo, porém o nosso código não reflete isso. Isso não era um problema antes pois não estávamos usando o valor de um vértice duas ou mais vezes no grafo computacional.\n",
    "\n"
   ]
  },
  {
   "cell_type": "code",
   "execution_count": 18,
   "metadata": {},
   "outputs": [
    {
     "name": "stdout",
     "output_type": "stream",
     "text": [
      "digraph {\n",
      "\tgraph [rankdir=LR]\n",
      "\t2012316142752 [label=\"{ d | data -6.0000 | grad 1.0000 }\" shape=record]\n",
      "\t\"2012316142752*\" [label=\"*\"]\n",
      "\t\"2012316142752*\" -> 2012316142752\n",
      "\t2012316139728 [label=\"{ c | data 1.0000 | grad 1.0000 }\" shape=record]\n",
      "\t\"2012316139728+\" [label=\"+\"]\n",
      "\t\"2012316139728+\" -> 2012316139728\n",
      "\t2012316054768 [label=\"{ b | data 3.0000 | grad 1.0000 }\" shape=record]\n",
      "\t2012316056496 [label=\"{ a | data -2.0000 | grad 1.0000 }\" shape=record]\n",
      "\t2012316142560 [label=\"{ e | data -5.0000 | grad 1.0000 }\" shape=record]\n",
      "\t\"2012316142560+\" [label=\"+\"]\n",
      "\t\"2012316142560+\" -> 2012316142560\n",
      "\t2012316139728 -> \"2012316142560+\"\n",
      "\t2012316056496 -> \"2012316139728+\"\n",
      "\t2012316054768 -> \"2012316139728+\"\n",
      "\t2012316142752 -> \"2012316142560+\"\n",
      "\t2012316056496 -> \"2012316142752*\"\n",
      "\t2012316054768 -> \"2012316142752*\"\n",
      "}\n",
      "\n"
     ]
    }
   ],
   "source": [
    "a = Valor(-2, rotulo=\"a\")\n",
    "b = Valor(3, rotulo=\"b\")\n",
    "\n",
    "c = a + b\n",
    "d = a * b\n",
    "\n",
    "e = c + d\n",
    "\n",
    "c.rotulo = \"c\"\n",
    "d.rotulo = \"d\"\n",
    "e.rotulo = \"e\"\n",
    "\n",
    "e.propagar_tudo()\n",
    "print(plota_grafo(e))"
   ]
  },
  {
   "cell_type": "markdown",
   "metadata": {},
   "source": [
    "Para a nossa sorte, é fácil de corrigir isso! Basta somar o gradiente com ele mesmo cada vez que ele for atualizado.\n",
    "\n"
   ]
  },
  {
   "cell_type": "code",
   "execution_count": 19,
   "metadata": {},
   "outputs": [],
   "source": [
    "class Valor:\n",
    "    def __init__(self, data, progenitor=(), operador_mae=\"\", rotulo=\"\"):\n",
    "        self.data = data\n",
    "        self.progenitor = progenitor\n",
    "        self.operador_mae = operador_mae\n",
    "        self.rotulo = rotulo\n",
    "        self.grad = 0\n",
    "\n",
    "    def __repr__(self):\n",
    "        return f\"Valor(data={self.data})\"\n",
    "\n",
    "    def __add__(self, outro_valor):\n",
    "        data = self.data + outro_valor.data\n",
    "        progenitor = (self, outro_valor)\n",
    "        operador_mae = \"+\"\n",
    "        saida = Valor(data, progenitor, operador_mae)\n",
    "\n",
    "        def propagar():\n",
    "            self.grad += saida.grad * 1\n",
    "            outro_valor.grad += saida.grad * 1\n",
    "\n",
    "        saida.propagar = propagar\n",
    "\n",
    "        return saida\n",
    "\n",
    "    def __mul__(self, outro_valor):\n",
    "        data = self.data * outro_valor.data\n",
    "        progenitor = (self, outro_valor)\n",
    "        operador_mae = \"*\"\n",
    "        saida = Valor(data, progenitor, operador_mae)\n",
    "\n",
    "        def propagar():\n",
    "            self.grad += saida.grad * outro_valor.data\n",
    "            outro_valor.grad += saida.grad * self.data\n",
    "\n",
    "        saida.propagar = propagar\n",
    "\n",
    "        return saida\n",
    "\n",
    "    def propagar(self):\n",
    "        pass\n",
    "\n",
    "    def propagar_tudo(self):\n",
    "        ordem_topologica = []\n",
    "        visitados = set()\n",
    "\n",
    "        def constroi_ordem_topologica(v):\n",
    "            if v not in visitados:\n",
    "                visitados.add(v)\n",
    "                for progenitor in v.progenitor:\n",
    "                    constroi_ordem_topologica(progenitor)\n",
    "                ordem_topologica.append(v)\n",
    "\n",
    "        constroi_ordem_topologica(self)\n",
    "\n",
    "        self.grad = 1  # o gradiente do vértice folha deve ser 1\n",
    "\n",
    "        for v in reversed(ordem_topologica):\n",
    "            v.propagar()"
   ]
  },
  {
   "cell_type": "markdown",
   "metadata": {},
   "source": [
    "Com isso corrigimos esse bug!\n",
    "\n"
   ]
  },
  {
   "cell_type": "code",
   "execution_count": 20,
   "metadata": {},
   "outputs": [
    {
     "name": "stdout",
     "output_type": "stream",
     "text": [
      "digraph {\n",
      "\tgraph [rankdir=LR]\n",
      "\t2012316165168 [label=\"{ a | data -2.0000 | grad 4.0000 }\" shape=record]\n",
      "\t2012316079728 [label=\"{ e | data -5.0000 | grad 1.0000 }\" shape=record]\n",
      "\t\"2012316079728+\" [label=\"+\"]\n",
      "\t\"2012316079728+\" -> 2012316079728\n",
      "\t2012316166800 [label=\"{ b | data 3.0000 | grad -1.0000 }\" shape=record]\n",
      "\t2012316080928 [label=\"{ d | data -6.0000 | grad 1.0000 }\" shape=record]\n",
      "\t\"2012316080928*\" [label=\"*\"]\n",
      "\t\"2012316080928*\" -> 2012316080928\n",
      "\t2012316078576 [label=\"{ c | data 1.0000 | grad 1.0000 }\" shape=record]\n",
      "\t\"2012316078576+\" [label=\"+\"]\n",
      "\t\"2012316078576+\" -> 2012316078576\n",
      "\t2012316165168 -> \"2012316078576+\"\n",
      "\t2012316166800 -> \"2012316078576+\"\n",
      "\t2012316165168 -> \"2012316080928*\"\n",
      "\t2012316078576 -> \"2012316079728+\"\n",
      "\t2012316080928 -> \"2012316079728+\"\n",
      "\t2012316166800 -> \"2012316080928*\"\n",
      "}\n",
      "\n"
     ]
    }
   ],
   "source": [
    "a = Valor(-2, rotulo=\"a\")\n",
    "b = Valor(3, rotulo=\"b\")\n",
    "\n",
    "c = a + b\n",
    "d = a * b\n",
    "\n",
    "e = c + d\n",
    "\n",
    "c.rotulo = \"c\"\n",
    "d.rotulo = \"d\"\n",
    "e.rotulo = \"e\"\n",
    "\n",
    "e.propagar_tudo()\n",
    "print(plota_grafo(e))"
   ]
  },
  {
   "cell_type": "markdown",
   "metadata": {},
   "source": [
    "## Conclusão\n",
    "\n"
   ]
  },
  {
   "cell_type": "markdown",
   "metadata": {},
   "source": [
    "As redes neurais são abordagens computacionais complexas. Ainda as redes menos elaboradas podem extremamente dificeis de programar utilizando apenas funções. Para isso, utilizamos as classes, pois essas permitem a elaboração de objetos complexos. Portanto, nesse experimento, foi programada uma rede neural utilizando classes. Para isso, foi definida algumas operações, como adição e subtração, o forward propagation e o back propagation, sendo possível a montagem de um grafo que representa a rede neural."
   ]
  },
  {
   "cell_type": "markdown",
   "metadata": {},
   "source": [
    "## Playground\n",
    "\n"
   ]
  },
  {
   "cell_type": "code",
   "execution_count": null,
   "metadata": {},
   "outputs": [],
   "source": []
  }
 ],
 "metadata": {
  "kernelspec": {
   "display_name": "ilumpy",
   "language": "python",
   "name": "ilumpy"
  },
  "language_info": {
   "codemirror_mode": {
    "name": "ipython",
    "version": 3
   },
   "file_extension": ".py",
   "mimetype": "text/x-python",
   "name": "python",
   "nbconvert_exporter": "python",
   "pygments_lexer": "ipython3",
   "version": "3.9.7"
  },
  "org": null
 },
 "nbformat": 4,
 "nbformat_minor": 4
}
