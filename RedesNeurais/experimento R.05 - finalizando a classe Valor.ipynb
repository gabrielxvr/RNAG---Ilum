{
 "cells": [
  {
   "cell_type": "markdown",
   "metadata": {},
   "source": [
    "Finalizando a classe Valor\n",
    "==========================\n",
    "\n"
   ]
  },
  {
   "cell_type": "markdown",
   "metadata": {},
   "source": [
    "## Introdução\n",
    "\n"
   ]
  },
  {
   "cell_type": "markdown",
   "metadata": {},
   "source": [
    "Chegou a hora de finalizar a classe `Valor`!\n",
    "\n"
   ]
  },
  {
   "cell_type": "markdown",
   "metadata": {},
   "source": [
    "## Objetivo\n",
    "\n"
   ]
  },
  {
   "cell_type": "markdown",
   "metadata": {},
   "source": [
    "O objetivo é fazer com que a classe `Valor` seja capaz de realizar algumas operações necessárias para que seja usada na nossa rede neural artificial.\n",
    "\n"
   ]
  },
  {
   "cell_type": "markdown",
   "metadata": {},
   "source": [
    "## Importações\n",
    "\n"
   ]
  },
  {
   "cell_type": "code",
   "execution_count": 1,
   "metadata": {},
   "outputs": [],
   "source": [
    "import math"
   ]
  },
  {
   "cell_type": "markdown",
   "metadata": {},
   "source": [
    "## Código e discussão\n",
    "\n"
   ]
  },
  {
   "cell_type": "markdown",
   "metadata": {},
   "source": [
    "### Finalizando a classe `Valor`\n",
    "\n"
   ]
  },
  {
   "cell_type": "markdown",
   "metadata": {},
   "source": [
    "Aqui está a classe `Valor` assim como feita na aula anterior. Vamos modificá-la para cumprir nossos objetivos (ver objetivos na próxima seção).\n",
    "\n"
   ]
  },
  {
   "cell_type": "code",
   "execution_count": 2,
   "metadata": {},
   "outputs": [],
   "source": [
    "class Valor:\n",
    "    def __init__(self, data, progenitor=(), operador_mae=\"\", rotulo=\"\"):\n",
    "        self.data = data\n",
    "        self.progenitor = progenitor\n",
    "        self.operador_mae = operador_mae\n",
    "        self.rotulo = rotulo\n",
    "        self.grad = 0\n",
    "\n",
    "    def __repr__(self):\n",
    "        return f\"Valor(data={self.data})\"\n",
    "\n",
    "    def __add__(self, outro_valor):\n",
    "        if not isinstance(outro_valor, Valor):\n",
    "            outro_valor = Valor(outro_valor)\n",
    "        data = self.data + outro_valor.data\n",
    "        progenitor = (self, outro_valor)\n",
    "        operador_mae = \"+\"\n",
    "        saida = Valor(data, progenitor, operador_mae)\n",
    "\n",
    "        def propagar_adicao():\n",
    "            self.grad += saida.grad * 1\n",
    "            outro_valor.grad += saida.grad * 1\n",
    "\n",
    "        saida.propagar = propagar_adicao\n",
    "\n",
    "        return saida\n",
    "    \n",
    "    def __radd__(self, outro_valor): # outro_valor + self\n",
    "        return self + outro_valor\n",
    "\n",
    "    def __mul__(self, outro_valor):\n",
    "        if not isinstance(outro_valor, Valor):\n",
    "            outro_valor = Valor(outro_valor)\n",
    "        data = self.data * outro_valor.data\n",
    "        progenitor = (self, outro_valor)\n",
    "        operador_mae = \"*\"\n",
    "        saida = Valor(data, progenitor, operador_mae)\n",
    "\n",
    "        def propagar_multiplicacao():\n",
    "            self.grad += saida.grad * outro_valor.data\n",
    "            outro_valor.grad += saida.grad * self.data\n",
    "\n",
    "        saida.propagar = propagar_multiplicacao\n",
    "\n",
    "        return saida\n",
    "\n",
    "    def __rmul__(self, outro_valor): # outro_valor*self\n",
    "        return self * outro_valor \n",
    "    \n",
    "    def __pow__(self, expoente): # self ** expoente\n",
    "        \n",
    "        assert isinstance(expoente, (int, float))\n",
    "        \n",
    "        data = self.data ** expoente\n",
    "        progenitor = (self, )\n",
    "        operador_mae = f\"**{expoente}\"\n",
    "        saida = Valor(data, progenitor, operador_mae)\n",
    "\n",
    "        def propagar_exponenciacao():\n",
    "            self.grad += saida.grad * expoente * (self.data ** (expoente - 1))\n",
    "\n",
    "        saida.propagar = propagar_exponenciacao\n",
    "\n",
    "        return saida\n",
    "    \n",
    "    def __truediv__(self, outro_valor): # self / outro_valor\n",
    "        return self * outro_valor ** (-1)\n",
    "    \n",
    "    def __neg__(self): # - self\n",
    "        return self * (-1)\n",
    "    \n",
    "    def __sub__(self, outro_valor): # self - outro_valor\n",
    "        return self + (-outro_valor)\n",
    "    \n",
    "    def __rsub__(self, outro_valor): # outro_valor - self\n",
    "        return self * (-1) + outro_valor\n",
    "    \n",
    "    def exp(self):\n",
    "        data = math.exp(self.data)\n",
    "        progenitor = (self, )\n",
    "        operador_mae = \"exp\"\n",
    "        saida = Valor(data, progenitor, operador_mae)\n",
    "\n",
    "        def propagar_exp():\n",
    "            self.grad += saida.grad * data\n",
    "\n",
    "        saida.propagar = propagar_exp\n",
    "\n",
    "        return saida\n",
    "    \n",
    "    def sig(self):\n",
    "        return self.exp() / (self.exp() + 1)\n",
    "    \n",
    "    def propagar(self):\n",
    "        pass\n",
    "\n",
    "    def propagar_tudo(self):\n",
    "        ordem_topologica = []\n",
    "        visitados = set()\n",
    "\n",
    "        def constroi_ordem_topologica(v):\n",
    "            if v not in visitados:\n",
    "                visitados.add(v)\n",
    "                for progenitor in v.progenitor:\n",
    "                    constroi_ordem_topologica(progenitor)\n",
    "                ordem_topologica.append(v)\n",
    "\n",
    "        constroi_ordem_topologica(self)\n",
    "\n",
    "        self.grad = 1  # o gradiente do vértice folha deve ser 1\n",
    "\n",
    "        for v in reversed(ordem_topologica):\n",
    "            v.propagar()"
   ]
  },
  {
   "cell_type": "markdown",
   "metadata": {},
   "source": [
    "### Objetivos a serem cumpridos\n",
    "\n"
   ]
  },
  {
   "cell_type": "markdown",
   "metadata": {},
   "source": [
    "Quero poder acidionar uma instância de `Valor` com uma constante qualquer.\n",
    "\n"
   ]
  },
  {
   "cell_type": "code",
   "execution_count": 3,
   "metadata": {},
   "outputs": [
    {
     "name": "stdout",
     "output_type": "stream",
     "text": [
      "Valor(data=11)\n"
     ]
    }
   ],
   "source": [
    "a = Valor(10, rotulo=\"a\")\n",
    "b = a + 1\n",
    "print(b)"
   ]
  },
  {
   "cell_type": "markdown",
   "metadata": {},
   "source": [
    "Quero poder multiplicar uma instância de `Valor` com uma constante qualquer.\n",
    "\n"
   ]
  },
  {
   "cell_type": "code",
   "execution_count": 4,
   "metadata": {},
   "outputs": [
    {
     "name": "stdout",
     "output_type": "stream",
     "text": [
      "Valor(data=100)\n"
     ]
    }
   ],
   "source": [
    "a = Valor(10, rotulo=\"a\")\n",
    "b = a * 10\n",
    "print(b)"
   ]
  },
  {
   "cell_type": "markdown",
   "metadata": {},
   "source": [
    "Quero poder acidionar uma instância de `Valor` com uma constante qualquer, mas na ordem oposta.\n",
    "\n"
   ]
  },
  {
   "cell_type": "code",
   "execution_count": 5,
   "metadata": {},
   "outputs": [
    {
     "name": "stdout",
     "output_type": "stream",
     "text": [
      "Valor(data=11)\n"
     ]
    }
   ],
   "source": [
    "a = Valor(10, rotulo=\"a\")\n",
    "b = 1 + a\n",
    "print(b)"
   ]
  },
  {
   "cell_type": "markdown",
   "metadata": {},
   "source": [
    "Quero poder multiplicar uma instância de `Valor` com uma constante qualquer, mas na ordem oposta.\n",
    "\n"
   ]
  },
  {
   "cell_type": "code",
   "execution_count": 6,
   "metadata": {},
   "outputs": [
    {
     "name": "stdout",
     "output_type": "stream",
     "text": [
      "Valor(data=100)\n"
     ]
    }
   ],
   "source": [
    "a = Valor(10, rotulo=\"a\")\n",
    "b = 10 * a\n",
    "print(b)"
   ]
  },
  {
   "cell_type": "markdown",
   "metadata": {},
   "source": [
    "Quero poder aplicar a função exponencial ($e^x$) em uma instância de `Valor`, computando corretamente o gradiente local desta operação.\n",
    "\n"
   ]
  },
  {
   "cell_type": "code",
   "execution_count": 7,
   "metadata": {},
   "outputs": [
    {
     "name": "stdout",
     "output_type": "stream",
     "text": [
      "Valor(data=2.718281828459045)\n"
     ]
    }
   ],
   "source": [
    "a = Valor(1, rotulo=\"a\")\n",
    "b = a.exp()\n",
    "print(b)"
   ]
  },
  {
   "cell_type": "markdown",
   "metadata": {},
   "source": [
    "Quero poder elevar uma instância de `Valor` a um número real qualquer. **Nota**: não vai funcionar se fizer um `Valor` elevado a outro `Valor` pois vamos propagar os gradientes apenas considerando que estamos elevando a uma constante qualquer.\n",
    "\n"
   ]
  },
  {
   "cell_type": "code",
   "execution_count": 8,
   "metadata": {},
   "outputs": [
    {
     "name": "stdout",
     "output_type": "stream",
     "text": [
      "Valor(data=100)\n"
     ]
    }
   ],
   "source": [
    "a = Valor(10, rotulo=\"a\")\n",
    "b = a**2\n",
    "print(b)"
   ]
  },
  {
   "cell_type": "markdown",
   "metadata": {},
   "source": [
    "Quero poder dividir uma instância de `Valor` por outra instância de `Valor`.\n",
    "\n"
   ]
  },
  {
   "cell_type": "code",
   "execution_count": 9,
   "metadata": {},
   "outputs": [
    {
     "name": "stdout",
     "output_type": "stream",
     "text": [
      "Valor(data=0.5)\n"
     ]
    }
   ],
   "source": [
    "a = Valor(1, rotulo=\"a\")\n",
    "b = Valor(2, rotulo=\"b\")\n",
    "c = a / b\n",
    "print(c)"
   ]
  },
  {
   "cell_type": "markdown",
   "metadata": {},
   "source": [
    "Quero poder computar o negativo de uma instância de `Valor`.\n",
    "\n"
   ]
  },
  {
   "cell_type": "code",
   "execution_count": 10,
   "metadata": {},
   "outputs": [
    {
     "name": "stdout",
     "output_type": "stream",
     "text": [
      "Valor(data=-1)\n"
     ]
    }
   ],
   "source": [
    "a = Valor(1, rotulo=\"a\")\n",
    "b = -a\n",
    "print(b)"
   ]
  },
  {
   "cell_type": "markdown",
   "metadata": {},
   "source": [
    "Quero poder subtrair uma instância de `Valor` por outra instância de `Valor`.\n",
    "\n"
   ]
  },
  {
   "cell_type": "code",
   "execution_count": 11,
   "metadata": {},
   "outputs": [
    {
     "name": "stdout",
     "output_type": "stream",
     "text": [
      "Valor(data=7)\n"
     ]
    }
   ],
   "source": [
    "a = Valor(10, rotulo=\"a\")\n",
    "b = Valor(3, rotulo=\"b\")\n",
    "c = a - b\n",
    "print(c)"
   ]
  },
  {
   "cell_type": "markdown",
   "metadata": {},
   "source": [
    "E, finalmente, quero poder aplicar a função sigmoide (também conhecida como logística) a uma instância de `Valor`. A função sigmoide é a seguinte:\n",
    "\n",
    "$$\n",
    "S(x) = \\frac{e^x}{e^x + 1}\n",
    "$$\n",
    "\n"
   ]
  },
  {
   "cell_type": "code",
   "execution_count": 12,
   "metadata": {},
   "outputs": [
    {
     "name": "stdout",
     "output_type": "stream",
     "text": [
      "Valor(data=0.5)\n"
     ]
    }
   ],
   "source": [
    "a = Valor(0, rotulo=\"a\")\n",
    "b = a.sig()\n",
    "print(b)"
   ]
  },
  {
   "cell_type": "markdown",
   "metadata": {},
   "source": [
    "## Conclusão\n",
    "\n"
   ]
  },
  {
   "cell_type": "markdown",
   "metadata": {},
   "source": [
    "Anteriormente, havia sido criada a classe Valor. No entanto, ainda haviam algumas operações envolvendo essa classe não definidas. Nesse notebook, foram definidas algumas operações básicas e a função sigmoide, isso facilitará a construção de uma rede neural a partir da classe Valor."
   ]
  },
  {
   "cell_type": "markdown",
   "metadata": {},
   "source": [
    "## Playground\n",
    "\n"
   ]
  },
  {
   "cell_type": "code",
   "execution_count": null,
   "metadata": {},
   "outputs": [],
   "source": []
  }
 ],
 "metadata": {
  "kernelspec": {
   "display_name": "ilumpy",
   "language": "python",
   "name": "ilumpy"
  },
  "language_info": {
   "codemirror_mode": {
    "name": "ipython",
    "version": 3
   },
   "file_extension": ".py",
   "mimetype": "text/x-python",
   "name": "python",
   "nbconvert_exporter": "python",
   "pygments_lexer": "ipython3",
   "version": "3.9.7"
  },
  "org": null
 },
 "nbformat": 4,
 "nbformat_minor": 4
}
