{
 "cells": [
  {
   "cell_type": "markdown",
   "metadata": {},
   "source": [
    "A função de Himmelblau\n",
    "========================================\n",
    "\n"
   ]
  },
  {
   "cell_type": "markdown",
   "metadata": {},
   "source": [
    "## Introdução\n",
    "\n"
   ]
  },
  {
   "cell_type": "markdown",
   "metadata": {},
   "source": [
    "Esse código encontra um valor de mínimo global para a função de Himmelblau.\n"
   ]
  },
  {
   "cell_type": "markdown",
   "metadata": {},
   "source": [
    "## Objetivo\n",
    "\n"
   ]
  },
  {
   "cell_type": "markdown",
   "metadata": {},
   "source": [
    "Encontrar a coordenada $(x,y)$ do mínimo global da função de Himmelblau abaixo.\n",
    "\n",
    "$$\n",
    "f(x,y) = (x^2 +y -11)^2 + (x + y^2 - 7)^2\n",
    "$$\n"
   ]
  },
  {
   "cell_type": "markdown",
   "metadata": {},
   "source": [
    "## Importações\n",
    "\n"
   ]
  },
  {
   "cell_type": "markdown",
   "metadata": {},
   "source": [
    "Todos os comandos de `import` devem estar dentro desta seção.\n",
    "\n"
   ]
  },
  {
   "cell_type": "code",
   "execution_count": 1,
   "metadata": {},
   "outputs": [],
   "source": [
    "import random\n",
    "from funcoes import populacao_fh\n",
    "from funcoes import selecao_por_torneio_fh as funcao_selecao\n",
    "from funcoes import cruzamento_ponto_simples as funcao_cruzamento\n",
    "from funcoes import mutacao_fh\n",
    "from funcoes import intervalo_com_passo"
   ]
  },
  {
   "cell_type": "markdown",
   "metadata": {},
   "source": [
    "## Códigos e discussão\n",
    "\n"
   ]
  },
  {
   "cell_type": "markdown",
   "metadata": {},
   "source": [
    "-   Use células de código para o código.\n",
    "\n",
    "-   Use células de texto para a discussão.\n",
    "\n",
    "-   A discussão não deve ser feita em comentários dentro das células de código. Toda discussão deve acontecer após o resultado sendo discutido foi apresentado. Exemplo: não discuta um gráfico antes de apresentá-lo.\n",
    "\n"
   ]
  },
  {
   "cell_type": "code",
   "execution_count": 2,
   "metadata": {},
   "outputs": [],
   "source": [
    "# Criar uma função que gera um gene\n",
    "# Criar uma função que gera um indivíduo\n",
    "# Criar uma função que gera uma população\n",
    "# Criar uma função que calcula o fitness do problema, nesse caso, apenas o valor de f(x)\n",
    "# Criar uma função seleção, em um primeiro momento, irei usar a função torneio, mas isso pode ser mudado\n",
    "# Usar a função cruzamento ponto simples\n",
    "# Criar uma função para mutação"
   ]
  },
  {
   "cell_type": "code",
   "execution_count": 3,
   "metadata": {},
   "outputs": [],
   "source": [
    "# constantes de busca\n",
    "TAMANHO_POP = 12 # quantidade de indivíduos\n",
    "NUM_GERACOES = 100000 # número de gerações\n",
    "CHANCE_DE_COMPETIR_IND = 0.5 # chance que cada indivíduo tem de ser chamado para o torneio\n",
    "CHANCE_CRUZAMENTO = 0.5 # chance de ocorrer o cruzamento entre dois indivíduos\n",
    "CHANCE_MUTACAO = 0.02 # chance de ocorrer mutação em cada indivíduo durante cada geração\n",
    "\n",
    "# constantes de problema\n",
    "NUM_GENES = 2 # número de genes ou tamanho da senha\n",
    "LIMITE_INFERIOR_DOMINIO = -1000\n",
    "LIMITE_SUPERIOR_DOMINIO = 1000\n",
    "PASSO = 0.5\n",
    "DOMINIO = intervalo_com_passo(LIMITE_INFERIOR_DOMINIO, LIMITE_SUPERIOR_DOMINIO, PASSO)"
   ]
  },
  {
   "cell_type": "code",
   "execution_count": 4,
   "metadata": {},
   "outputs": [],
   "source": [
    "# Funções Locais\n",
    "\n",
    "def cria_populacao_inicial(tamanho, numero_genes):\n",
    "    return populacao_fh(tamanho, numero_genes, DOMINIO)\n",
    "\n",
    "def funcao_mutacao(individuo):\n",
    "    return mutacao_fh(individuo, DOMINIO)"
   ]
  },
  {
   "cell_type": "code",
   "execution_count": 5,
   "metadata": {},
   "outputs": [
    {
     "name": "stdout",
     "output_type": "stream",
     "text": [
      "População inicial:\n",
      "Individuo  1 :  [-977.5, -676.5]\n",
      "Individuo  2 :  [-857.5, -42.5]\n",
      "Individuo  3 :  [447.0, 314.0]\n",
      "Individuo  4 :  [192.0, 209.0]\n",
      "Individuo  5 :  [173.0, 605.5]\n",
      "Individuo  6 :  [-477.0, 146.5]\n",
      "Individuo  7 :  [-996.0, 206.5]\n",
      "Individuo  8 :  [875.0, 731.0]\n",
      "Individuo  9 :  [280.5, -481.0]\n",
      "Individuo  10 :  [-528.0, 943.5]\n",
      "Individuo  11 :  [-919.5, -766.0]\n",
      "Individuo  12 :  [-401.0, -795.0]\n",
      "\n",
      "População final:\n",
      "Individuo  1 :  [8.5, -4.0]\n",
      "Individuo  2 :  [8.5, -4.0]\n",
      "Individuo  3 :  [8.5, -4.0]\n",
      "Individuo  4 :  [8.5, -4.0]\n",
      "Individuo  5 :  [8.5, -4.0]\n",
      "Individuo  6 :  [8.5, -4.0]\n",
      "Individuo  7 :  [8.5, -4.0]\n",
      "Individuo  8 :  [8.5, -4.0]\n",
      "Individuo  9 :  [8.5, -4.0]\n",
      "Individuo  10 :  [8.5, -4.0]\n",
      "Individuo  11 :  [8.5, -4.0]\n",
      "Individuo  12 :  [8.5, -4.0]\n"
     ]
    }
   ],
   "source": [
    "populacao = cria_populacao_inicial(TAMANHO_POP, NUM_GENES) # cria aleatoriamente uma população inicial\n",
    "\n",
    "print('População inicial:') # mostra qual foi a população criada aleatoriamente\n",
    "for i, ind in enumerate(populacao):\n",
    "    print('Individuo ', i+1, ': ', ind)\n",
    "\n",
    "for _ in range(NUM_GERACOES): # loop que começa a rodar cada geração\n",
    "    \n",
    "    # Única alteração na estrutura do código\n",
    "    populacao = funcao_selecao(populacao, CHANCE_DE_COMPETIR_IND) # Tem a função de sortear individuos na população e troca-los pelo melhor entre eles\n",
    "    \n",
    "    pais = populacao[0::2] # definição dos indivíduos que serão pais\n",
    "    maes = populacao[1::2] # definição dos indivíduos que serão mães\n",
    "    contador = 0 # estratégia para colocar os filhos no lugar dos pais\n",
    "    for pai, mae in zip(pais, maes): # laço de repetição para pegar itens da lista de pais e mães\n",
    "        if random.random() < CHANCE_CRUZAMENTO: # aplicando a possibilidade de cruzamento\n",
    "            # vai acertar o cruzamento\n",
    "            filho1, filho2 = funcao_cruzamento(pai, mae) # \"calculando\" o filho 1 e o filho 2\n",
    "            populacao[contador] = filho1 # trocando o pai pelo filho 1\n",
    "            populacao[contador + 1] = filho2 # trocando a mãe pelo filho 2\n",
    "            \n",
    "        contador = contador + 2 # atualização do contador\n",
    "    \n",
    "    for n in range(len(populacao)): #laço de repetição para mutação\n",
    "        if random.random() <= CHANCE_MUTACAO: # chance de mutação\n",
    "            individuo = populacao[n] # esxolhe o indivíduo\n",
    "            populacao[n] = funcao_mutacao(individuo) # muta o indivíduo\n",
    "        \n",
    "    \n",
    "print()\n",
    "print('População final:') # mostra qual foi a população final selecionada geneticamente\n",
    "for i, ind in enumerate(populacao):\n",
    "    print('Individuo ', i+1, ': ', ind)"
   ]
  },
  {
   "cell_type": "markdown",
   "metadata": {},
   "source": [
    "## Conclusão\n",
    "\n"
   ]
  },
  {
   "cell_type": "markdown",
   "metadata": {},
   "source": [
    "O código conseguiu encontrar um valor de mínimo para a função de Himmelblau.\n",
    "\n"
   ]
  },
  {
   "cell_type": "markdown",
   "metadata": {},
   "source": [
    "## Referências consultadas\n",
    "\n"
   ]
  },
  {
   "cell_type": "markdown",
   "metadata": {},
   "source": [
    "## Playground\n",
    "\n"
   ]
  },
  {
   "cell_type": "markdown",
   "metadata": {},
   "source": [
    "Todo código de teste que não faz parte do seu experimento deve vir aqui. Este código não será considerado na avaliação.\n",
    "\n"
   ]
  },
  {
   "cell_type": "code",
   "execution_count": 6,
   "metadata": {},
   "outputs": [],
   "source": [
    "import random as rd\n",
    "dominio_x_y = [0, 1, 2, 3, 4, 5]\n",
    "\n",
    "def gene_fh(dominio_x_y):\n",
    "    \"\"\" Função que gera, a partir do domínio de x e y, um gene\n",
    "    \n",
    "    Args:\n",
    "        dominio_x_y: valores possíveis para x\n",
    "\n",
    "    Return:\n",
    "        Um valor pertencente ao domínio de x e y\n",
    "        \n",
    "    Obs:\n",
    "        Vamos trabalhar apenas com domínios iguais para x e y\n",
    "    \"\"\"\n",
    "    gene = rd.choice(dominio_x_y)\n",
    "    return gene"
   ]
  },
  {
   "cell_type": "code",
   "execution_count": 7,
   "metadata": {},
   "outputs": [
    {
     "data": {
      "text/plain": [
       "4"
      ]
     },
     "execution_count": 7,
     "metadata": {},
     "output_type": "execute_result"
    }
   ],
   "source": [
    "gene_fh(dominio_x_y)"
   ]
  },
  {
   "cell_type": "code",
   "execution_count": 8,
   "metadata": {},
   "outputs": [],
   "source": [
    "def funcao_objetivo_fh(individuo):\n",
    "    \"\"\"Computa qual é a função objetivo do problema de caixas não binárias\n",
    "    \n",
    "    Args:\n",
    "        individuo: lista contendo os genes das caixas não binárias\n",
    "        \n",
    "    Return:\n",
    "        O valor da função de função de Himmelblau no ponto de x e y correspondentes ao gene\n",
    "    \"\"\"\n",
    "    x = individuo[0]\n",
    "    y = individuo[1]\n",
    "    \n",
    "    return (x**2 + y - 11)**2 + (x + y**2 - 7)**2"
   ]
  },
  {
   "cell_type": "code",
   "execution_count": 9,
   "metadata": {},
   "outputs": [
    {
     "ename": "TypeError",
     "evalue": "unsupported operand type(s) for /: 'list' and 'int'",
     "output_type": "error",
     "traceback": [
      "\u001b[1;31m---------------------------------------------------------------------------\u001b[0m",
      "\u001b[1;31mTypeError\u001b[0m                                 Traceback (most recent call last)",
      "\u001b[1;32mC:\\Users\\GABRIE~1\\AppData\\Local\\Temp/ipykernel_24248/1202460507.py\u001b[0m in \u001b[0;36m<module>\u001b[1;34m\u001b[0m\n\u001b[0;32m      1\u001b[0m \u001b[0ma\u001b[0m \u001b[1;33m=\u001b[0m \u001b[0mlist\u001b[0m\u001b[1;33m(\u001b[0m\u001b[0mrange\u001b[0m\u001b[1;33m(\u001b[0m\u001b[1;33m-\u001b[0m\u001b[1;36m1000\u001b[0m\u001b[1;33m,\u001b[0m \u001b[1;36m1000\u001b[0m\u001b[1;33m)\u001b[0m\u001b[1;33m)\u001b[0m\u001b[1;33m\u001b[0m\u001b[1;33m\u001b[0m\u001b[0m\n\u001b[1;32m----> 2\u001b[1;33m \u001b[0mb\u001b[0m \u001b[1;33m=\u001b[0m \u001b[0ma\u001b[0m\u001b[1;33m/\u001b[0m\u001b[1;36m10\u001b[0m\u001b[1;33m\u001b[0m\u001b[1;33m\u001b[0m\u001b[0m\n\u001b[0m",
      "\u001b[1;31mTypeError\u001b[0m: unsupported operand type(s) for /: 'list' and 'int'"
     ]
    }
   ],
   "source": [
    "a = list(range(-1000, 1000))\n",
    "b = a/10"
   ]
  },
  {
   "cell_type": "code",
   "execution_count": null,
   "metadata": {},
   "outputs": [],
   "source": [
    "def intervalo_com_passo(lim_inf, lim_sup, passo):\n",
    "    \"\"\" Cria uma lista com um intervalo e com um passo que será a diferença entre os elementos dessa lista\n",
    "    \n",
    "    Args:\n",
    "        lim_inf: limite inferior\n",
    "        lim_sup: limite superior\n",
    "        passo: diferença entre os elementos sequentes da lista\n",
    "        \n",
    "    Return:\n",
    "        Uma lista com valores númericos em um intervalo\n",
    "    \"\"\"\n",
    "    lista_ip = []\n",
    "    a = int(lim_inf/passo)\n",
    "    b = int(lim_sup/passo)\n",
    "    \n",
    "    for i in range(a, b):\n",
    "        j = round(i*passo, 3)\n",
    "        lista_ip.append(j)\n",
    "        \n",
    "    return lista_ip"
   ]
  },
  {
   "cell_type": "code",
   "execution_count": null,
   "metadata": {},
   "outputs": [],
   "source": [
    "intervalo_com_passo(-10, 10, 0.3)"
   ]
  },
  {
   "cell_type": "code",
   "execution_count": null,
   "metadata": {},
   "outputs": [],
   "source": []
  }
 ],
 "metadata": {
  "kernelspec": {
   "display_name": "ilumpy",
   "language": "python",
   "name": "ilumpy"
  },
  "language_info": {
   "codemirror_mode": {
    "name": "ipython",
    "version": 3
   },
   "file_extension": ".py",
   "mimetype": "text/x-python",
   "name": "python",
   "nbconvert_exporter": "python",
   "pygments_lexer": "ipython3",
   "version": "3.9.7"
  },
  "org": null
 },
 "nbformat": 4,
 "nbformat_minor": 4
}
