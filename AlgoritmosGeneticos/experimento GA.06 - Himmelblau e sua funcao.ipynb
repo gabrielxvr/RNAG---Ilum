{
 "cells": [
  {
   "cell_type": "markdown",
   "metadata": {},
   "source": [
    "A função de Himmelblau\n",
    "========================================\n",
    "\n"
   ]
  },
  {
   "cell_type": "markdown",
   "metadata": {},
   "source": [
    "## Introdução\n",
    "\n"
   ]
  },
  {
   "cell_type": "markdown",
   "metadata": {},
   "source": [
    "Esse código encontra um valor de mínimo global para a função de Himmelblau. Como uma primeira análise, pode ser interessante analisar algebricamente essa função, da seguinte forma:\n",
    "\n",
    "$$\n",
    "f(x,y) = (x^2 +y -11)^2 + (x + y^2 - 7)^2\n",
    "$$\n",
    "\n",
    "Como $ (x^2 +y -11)^2 ≥ 0 $ e $ (x + y^2 - 7)^2 ≥ 0 $, $ f(x,y) ≥ 0 $\n",
    "\n",
    "Ou seja, o menor valor possível para a função é 0."
   ]
  },
  {
   "cell_type": "markdown",
   "metadata": {},
   "source": [
    "## Objetivo\n",
    "\n"
   ]
  },
  {
   "cell_type": "markdown",
   "metadata": {},
   "source": [
    "Encontrar a coordenada $(x,y)$ do mínimo global da função de Himmelblau abaixo.\n",
    "\n",
    "$$\n",
    "f(x,y) = (x^2 +y -11)^2 + (x + y^2 - 7)^2\n",
    "$$\n"
   ]
  },
  {
   "cell_type": "markdown",
   "metadata": {},
   "source": [
    "## Importações\n",
    "\n"
   ]
  },
  {
   "cell_type": "markdown",
   "metadata": {},
   "source": [
    "Todos os comandos de `import` devem estar dentro desta seção.\n",
    "\n"
   ]
  },
  {
   "cell_type": "code",
   "execution_count": null,
   "metadata": {},
   "outputs": [],
   "source": [
    "import random\n",
    "from funcoes import populacao_fh\n",
    "from funcoes import selecao_por_torneio_fh as funcao_selecao\n",
    "from funcoes import cruzamento_ponto_simples as funcao_cruzamento\n",
    "from funcoes import mutacao_fh\n",
    "from funcoes import intervalo_com_passo\n",
    "from funcoes import funcao_objetivo_fh\n",
    "from funcoes import funcao_objetivo_pop_fh as funcao_objetivo_pop"
   ]
  },
  {
   "cell_type": "markdown",
   "metadata": {},
   "source": [
    "## Códigos e discussão\n",
    "\n"
   ]
  },
  {
   "cell_type": "markdown",
   "metadata": {},
   "source": [
    "-   Use células de código para o código.\n",
    "\n",
    "-   Use células de texto para a discussão.\n",
    "\n",
    "-   A discussão não deve ser feita em comentários dentro das células de código. Toda discussão deve acontecer após o resultado sendo discutido foi apresentado. Exemplo: não discuta um gráfico antes de apresentá-lo.\n",
    "\n"
   ]
  },
  {
   "cell_type": "code",
   "execution_count": null,
   "metadata": {},
   "outputs": [],
   "source": [
    "# Criar uma função que gera um gene\n",
    "# Criar uma função que gera um indivíduo\n",
    "# Criar uma função que gera uma população\n",
    "# Criar uma função que calcula o fitness do problema, nesse caso, apenas o valor de f(x)\n",
    "# Criar uma função seleção, em um primeiro momento, irei usar a função torneio, mas isso pode ser mudado\n",
    "# Usar a função cruzamento ponto simples\n",
    "# Criar uma função para mutação\n",
    "# Adotar um critério de parada como o surgimento de um indivíduo que possui função objetivo igual a 0, admitindo um erro estabelecido."
   ]
  },
  {
   "cell_type": "code",
   "execution_count": null,
   "metadata": {},
   "outputs": [],
   "source": [
    "# constantes de busca\n",
    "TAMANHO_POP = 12 # quantidade de indivíduos\n",
    "NUM_GERACOES = 100000 # número de gerações\n",
    "CHANCE_DE_COMPETIR_IND = 0.5 # chance que cada indivíduo tem de ser chamado para o torneio\n",
    "CHANCE_CRUZAMENTO = 0.5 # chance de ocorrer o cruzamento entre dois indivíduos\n",
    "CHANCE_MUTACAO = 0.02 # chance de ocorrer mutação em cada indivíduo durante cada geração\n",
    "LIMITE_INFERIOR_DOMINIO = -10 # Menor valor possível para x ou y\n",
    "LIMITE_SUPERIOR_DOMINIO = 10 # Maior valor possível para x ou y\n",
    "PASSO = 0.00001 # intervalo entre cada elemento do domínio\n",
    "DOMINIO = intervalo_com_passo(LIMITE_INFERIOR_DOMINIO, LIMITE_SUPERIOR_DOMINIO, PASSO) # lista de possíveis valores para x ou y\n",
    "ERRO = 0.00001 # erro aceito para o critério de parada\n",
    "\n",
    "# constantes de problema\n",
    "NUM_GENES = 2 # número de genes ou tamanho da senha\n",
    "MINIMO = 0 # valor mínimo estimado para a função"
   ]
  },
  {
   "cell_type": "code",
   "execution_count": null,
   "metadata": {},
   "outputs": [],
   "source": [
    "# Funções Locais\n",
    "\n",
    "def cria_populacao_inicial(tamanho, numero_genes):\n",
    "    return populacao_fh(tamanho, numero_genes, DOMINIO)\n",
    "\n",
    "def funcao_mutacao(individuo):\n",
    "    return mutacao_fh(individuo, DOMINIO)"
   ]
  },
  {
   "cell_type": "code",
   "execution_count": null,
   "metadata": {},
   "outputs": [],
   "source": [
    "populacao = cria_populacao_inicial(TAMANHO_POP, NUM_GENES) # cria aleatoriamente uma população inicial\n",
    "\n",
    "print('População inicial:') # mostra qual foi a população criada aleatoriamente\n",
    "for i, ind in enumerate(populacao):\n",
    "    print('Individuo ', i+1, ': ', ind)\n",
    "    \n",
    "melhor_fitness_ja_visto = float(\"inf\")  # é assim que escrevemos infinito em python\n",
    "\n",
    "#for _ in range(NUM_GERACOES): # loop que começa a rodar cada geração\n",
    "while melhor_fitness_ja_visto >= (MINIMO + ERRO):\n",
    "   \n",
    "    # Única alteração na estrutura do código\n",
    "    populacao = funcao_selecao(populacao, CHANCE_DE_COMPETIR_IND) # Tem a função de sortear individuos na população e troca-los pelo melhor entre eles\n",
    "    \n",
    "    pais = populacao[0::2] # definição dos indivíduos que serão pais\n",
    "    maes = populacao[1::2] # definição dos indivíduos que serão mães\n",
    "    contador = 0 # estratégia para colocar os filhos no lugar dos pais\n",
    "    for pai, mae in zip(pais, maes): # laço de repetição para pegar itens da lista de pais e mães\n",
    "        if random.random() < CHANCE_CRUZAMENTO: # aplicando a possibilidade de cruzamento\n",
    "            # vai acertar o cruzamento\n",
    "            filho1, filho2 = funcao_cruzamento(pai, mae) # \"calculando\" o filho 1 e o filho 2\n",
    "            populacao[contador] = filho1 # trocando o pai pelo filho 1\n",
    "            populacao[contador + 1] = filho2 # trocando a mãe pelo filho 2\n",
    "            \n",
    "        contador = contador + 2 # atualização do contador\n",
    "    \n",
    "    for n in range(len(populacao)): #laço de repetição para mutação\n",
    "        if random.random() <= CHANCE_MUTACAO: # chance de mutação\n",
    "            individuo = populacao[n] # esxolhe o indivíduo\n",
    "            populacao[n] = funcao_mutacao(individuo) # muta o indivíduo\n",
    "            \n",
    "    # melhor individuo já visto até agora\n",
    "    fitness = funcao_objetivo_pop(populacao)\n",
    "    menor_fitness = min(fitness)\n",
    "    if menor_fitness < melhor_fitness_ja_visto:        \n",
    "        posicao = fitness.index(menor_fitness)\n",
    "        melhor_individuo_ja_visto = populacao[posicao]\n",
    "        melhor_fitness_ja_visto = menor_fitness\n",
    "        \n",
    "    \n",
    "print()\n",
    "print('População final:') # mostra qual foi a população final selecionada geneticamente\n",
    "for i, ind in enumerate(populacao):\n",
    "    print('Individuo ', i+1, ': ', ind, funcao_objetivo_fh(ind))\n",
    "print(melhor_individuo_ja_visto)\n",
    "print(melhor_fitness_ja_visto)"
   ]
  },
  {
   "cell_type": "markdown",
   "metadata": {},
   "source": [
    "## Conclusão\n",
    "\n"
   ]
  },
  {
   "cell_type": "markdown",
   "metadata": {},
   "source": [
    "O código conseguiu encontrar um valor de mínimo para a função de Himmelblau. Pesquisando sobre a função [1], foi possível notar que o código foi capaz de encontrar todos as soluções possíveis com uma precisão de 3 dígitos. É evidenciada, portanto, a eficiência dos algoritmos genéticos na resolução de problemas da matemática. Para além do que foi feito, eu gostaria de testar uma nova abordagem do problema, tratando cada algarismo do número (inclusive as casas decimais) como genes do indivíduo. Dessa forma, a possibilidade de valores possíveis em cada gene variaria apenas de 0 a 10, em contrapartida o número de genes aumentaria."
   ]
  },
  {
   "cell_type": "markdown",
   "metadata": {},
   "source": [
    "## Nova Abordagem"
   ]
  },
  {
   "cell_type": "markdown",
   "metadata": {},
   "source": [
    "Eu irei trabalhar com indivíduos em que os genes representam os algarismo de um número, exemplo:\n",
    "\n",
    "(1.3291, 2.0238) => [1][3][2][9][1][2][0][2][3][8]"
   ]
  },
  {
   "cell_type": "code",
   "execution_count": null,
   "metadata": {},
   "outputs": [],
   "source": [
    "# para trabalhar também com números negativos, eu teria que inserir essa informação de alguma forma, para deixar todos os valores possíveis para os genes iguais, eu irei trabalhar, para todos os genes, com um conjunto de valores possíveis igual aos inteiros de -9 a 9.\n",
    "\n",
    "# Vou criar uma função que cria um gene\n",
    "# Vou criar uma função que cria um indivíduo\n",
    "# Vou criar uma função que cria uma população\n",
    "# Vou criar uma função objetivo baseada no problema\n",
    "# Vou criar uma função fitness da população\n",
    "# As funções de mutação, cruzamento e seleção serão as mesmas\n",
    "\n"
   ]
  },
  {
   "cell_type": "markdown",
   "metadata": {},
   "source": [
    "## Referências consultadas\n",
    "\n"
   ]
  },
  {
   "cell_type": "markdown",
   "metadata": {},
   "source": [
    "[1] [Himmelblau's function - Wikipedia](https://en.wikipedia.org/wiki/Himmelblau%27s_function)"
   ]
  },
  {
   "cell_type": "markdown",
   "metadata": {},
   "source": [
    "## Playground\n",
    "\n"
   ]
  },
  {
   "cell_type": "markdown",
   "metadata": {},
   "source": [
    "Todo código de teste que não faz parte do seu experimento deve vir aqui. Este código não será considerado na avaliação.\n",
    "\n"
   ]
  },
  {
   "cell_type": "code",
   "execution_count": null,
   "metadata": {},
   "outputs": [],
   "source": [
    "import random as rd\n",
    "dominio_x_y = [0, 1, 2, 3, 4, 5]\n",
    "\n",
    "def gene_fh(dominio_x_y):\n",
    "    \"\"\" Função que gera, a partir do domínio de x e y, um gene\n",
    "    \n",
    "    Args:\n",
    "        dominio_x_y: valores possíveis para x\n",
    "\n",
    "    Return:\n",
    "        Um valor pertencente ao domínio de x e y\n",
    "        \n",
    "    Obs:\n",
    "        Vamos trabalhar apenas com domínios iguais para x e y\n",
    "    \"\"\"\n",
    "    gene = rd.choice(dominio_x_y)\n",
    "    return gene"
   ]
  },
  {
   "cell_type": "code",
   "execution_count": null,
   "metadata": {},
   "outputs": [],
   "source": [
    "gene_fh(dominio_x_y)"
   ]
  },
  {
   "cell_type": "code",
   "execution_count": null,
   "metadata": {},
   "outputs": [],
   "source": [
    "def funcao_objetivo_fh(individuo):\n",
    "    \"\"\"Computa qual é a função objetivo do problema de caixas não binárias\n",
    "    \n",
    "    Args:\n",
    "        individuo: lista contendo os genes das caixas não binárias\n",
    "        \n",
    "    Return:\n",
    "        O valor da função de função de Himmelblau no ponto de x e y correspondentes ao gene\n",
    "    \"\"\"\n",
    "    x = individuo[0]\n",
    "    y = individuo[1]\n",
    "    \n",
    "    return (x**2 + y - 11)**2 + (x + y**2 - 7)**2"
   ]
  },
  {
   "cell_type": "code",
   "execution_count": null,
   "metadata": {},
   "outputs": [],
   "source": [
    "def intervalo_com_passo(lim_inf, lim_sup, passo):\n",
    "    \"\"\" Cria uma lista com um intervalo e com um passo que será a diferença entre os elementos dessa lista\n",
    "    \n",
    "    Args:\n",
    "        lim_inf: limite inferior\n",
    "        lim_sup: limite superior\n",
    "        passo: diferença entre os elementos sequentes da lista\n",
    "        \n",
    "    Return:\n",
    "        Uma lista com valores númericos em um intervalo\n",
    "    \"\"\"\n",
    "    lista_ip = []\n",
    "    a = int(lim_inf/passo)\n",
    "    b = int(lim_sup/passo)\n",
    "    \n",
    "    for i in range(a, b):\n",
    "        j = round(i*passo, 3)\n",
    "        lista_ip.append(j)\n",
    "        \n",
    "    return lista_ip"
   ]
  },
  {
   "cell_type": "code",
   "execution_count": null,
   "metadata": {},
   "outputs": [],
   "source": [
    "intervalo_com_passo(-10, 10, 0.3)"
   ]
  },
  {
   "cell_type": "code",
   "execution_count": null,
   "metadata": {},
   "outputs": [],
   "source": []
  }
 ],
 "metadata": {
  "kernelspec": {
   "display_name": "ilumpy",
   "language": "python",
   "name": "ilumpy"
  },
  "language_info": {
   "codemirror_mode": {
    "name": "ipython",
    "version": 3
   },
   "file_extension": ".py",
   "mimetype": "text/x-python",
   "name": "python",
   "nbconvert_exporter": "python",
   "pygments_lexer": "ipython3",
   "version": "3.9.7"
  },
  "org": null
 },
 "nbformat": 4,
 "nbformat_minor": 4
}
