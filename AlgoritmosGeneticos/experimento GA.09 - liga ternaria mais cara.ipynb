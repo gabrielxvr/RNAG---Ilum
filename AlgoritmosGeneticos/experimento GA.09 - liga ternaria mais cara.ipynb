{
 "cells": [
  {
   "cell_type": "markdown",
   "metadata": {},
   "source": [
    "Liga ternária mais cara\n",
    "========================================\n",
    "\n"
   ]
  },
  {
   "cell_type": "markdown",
   "metadata": {},
   "source": [
    "## Introdução\n",
    "\n"
   ]
  },
  {
   "cell_type": "markdown",
   "metadata": {},
   "source": [
    "Esse código encontra uma liga ternária composta por $x$A.$y$B.$z$C sendo que $x+y+z = 100\\,\\mathrm{g}$, $x>5\\,\\mathrm{g}$, $y>5\\,\\mathrm{g}$, $z>5\\,\\mathrm{g}$ e &ldquo;A&rdquo;, &ldquo;B&rdquo; e &ldquo;C&rdquo; são elementos químicos. Sendo que a junção desses compostos é chamada de \"liga\".\n"
   ]
  },
  {
   "cell_type": "markdown",
   "metadata": {},
   "source": [
    "## Objetivo\n",
    "\n"
   ]
  },
  {
   "cell_type": "markdown",
   "metadata": {},
   "source": [
    "Utilizar Algoritmos Genéticos para calcular a liga ternária seguindo as limitações definidas.\n",
    "\n"
   ]
  },
  {
   "cell_type": "markdown",
   "metadata": {},
   "source": [
    "## Importações\n",
    "\n"
   ]
  },
  {
   "cell_type": "code",
   "execution_count": 1,
   "metadata": {},
   "outputs": [],
   "source": [
    "from funcoes import populacao_lt as cria_populacao_inicial\n",
    "from funcoes import individuo_lt\n",
    "from funcoes import computa_preco_lt\n",
    "from funcoes import funcao_objetivo_pop_lt\n",
    "from funcoes import selecao_roleta_max as funcao_selecao\n",
    "from funcoes import cruzamento_lt as funcao_cruzamento\n",
    "from funcoes import mutacao_elemento_lt\n",
    "from funcoes import mutacao_massa_lt\n",
    "import random"
   ]
  },
  {
   "cell_type": "markdown",
   "metadata": {},
   "source": [
    "## Códigos e discussão\n",
    "\n"
   ]
  },
  {
   "cell_type": "markdown",
   "metadata": {},
   "source": [
    "Irei inovar, vou pensar em um indivíduo contendo cromossomos e genes. O indivíduo conterá 3 cromossomos, sendo que cada um desses conterá 2 genes. Cada cromossomo irá se referir a um elemento, sendo que, dos 2 genes presentes no cromossomo, o primeiro será destinado para o tipo do elemento e o segundo será destinado para a massa do elemento.\n",
    "\n",
    "### Passo-a-passo\n",
    "\n",
    "- Criar uma função que gera indivíduos viáveis, nesse caso, indivíduos em que os genes de massa somem 100 g.\n",
    "\n",
    "- Criar uma função que gera uma população de indivíduos viáveis\n",
    "\n",
    "- Criar uma função que calcula o fitness para o problema, o qual corresponderá ao preço final da liga com uma punição quando qualquer um dos elementos possui quantidade menor que 5.\n",
    "\n",
    "- Criar uma função de cruzamento que mantenha a propriedade de soma 1: Se o pai e a mãe possuírem qualquer genes de massa com valores iguais, os cromossomos em que esses genes estão presentes serão trocados para formar os filhos\n",
    "\n",
    "- Criar uma função de mutação que mantenha a propriedade de soma 1: Será divido em dois tipos de mutação, a de elemento e a de massa. Na de elemento, algum gene de elemento será trocado por um outro elemento qualquer. Na de massa, dois genes de massa serão escolhidos e trocados por valores aleatórios, tais que a soma desses valores é igual à soma dos valores anteriores.\n",
    "\n",
    "- Utilizar a seleção por torneio de maximização."
   ]
  },
  {
   "cell_type": "code",
   "execution_count": 2,
   "metadata": {},
   "outputs": [],
   "source": [
    "# relacionadas à busca\n",
    "TAMANHO_POP = 20\n",
    "NUM_GERACOES = 2000000\n",
    "CHANCE_CRUZAMENTO = 0.5\n",
    "CHANCE_MUTACAO_ELEMENTO = 0.2\n",
    "CHANCE_MUTACAO_MASSA = 0.1\n",
    "\n",
    "# relacionadas ao problema a ser resolvido\n",
    "NUM_ELEMENTOS = 3\n",
    "MASSA_MAX = 100\n",
    "MASSA_MIN_ELEMENTO = 5\n",
    "\n",
    "# preço em dólares por kilograma\n",
    "preco = {\n",
    "    \"H\": 1.39,\n",
    "    \"He\": 24,\n",
    "    \"Li\": 85.6,\n",
    "    \"Be\": 857,\n",
    "    \"B\": 3.68,\n",
    "    \"C\": 0.122,\n",
    "    \"N\": 0.14,\n",
    "    \"O\": 0.154,\n",
    "    \"F\": 2.16,\n",
    "    \"Ne\": 240,\n",
    "    \"Na\": 3.43,\n",
    "    \"Mg\": 2.32,\n",
    "    \"Al\": 1.79,\n",
    "    \"Si\": 1.7,\n",
    "    \"P\": 2.69,\n",
    "    \"S\": 0.0926,\n",
    "    \"Cl\": 0.082,\n",
    "    \"Ar\": 0.931,\n",
    "    \"K\": 13.6,\n",
    "    \"Ca\": 2.35,\n",
    "    \"Sc\": 3460,\n",
    "    \"Ti\": 11.7,\n",
    "    \"V\": 385,\n",
    "    \"Cr\": 9.4,\n",
    "    \"Mn\": 1.82,\n",
    "    \"Fe\": 0.424,\n",
    "    \"Co\": 32.8,\n",
    "    \"Ni\": 13.9,\n",
    "    \"Cu\": 6,\n",
    "    \"Zn\": 2.55,\n",
    "    \"Ga\": 148,\n",
    "    \"Ge\": 1010,\n",
    "    \"As\": 1.31,\n",
    "    \"Se\": 21.4,\n",
    "    \"Br\": 4.39,\n",
    "    \"Kr\": 290,\n",
    "    \"Rb\": 15500,\n",
    "    \"Sr\": 6.68,\n",
    "    \"Y\": 31,\n",
    "    \"Nb\": 85.6,\n",
    "    \"Mo\": 40.1,\n",
    "    \"Tc\": 100000,\n",
    "    \"Ru\": 10600,\n",
    "    \"Rh\": 147000,\n",
    "    \"Pd\": 49500,\n",
    "    \"Ag\": 521,\n",
    "    \"Cd\": 2.73,\n",
    "    \"In\": 167,\n",
    "    \"Sn\": 18.7,\n",
    "    \"Sb\": 5.79,\n",
    "    \"Te\": 63.5,\n",
    "    \"I\": 35,\n",
    "    \"Xe\": 1800,\n",
    "    \"Cs\": 61800,\n",
    "    \"Ba\": 0.275,\n",
    "    \"La\": 4.92,\n",
    "    \"Ce\": 4.71,\n",
    "    \"Pr\": 103,\n",
    "    \"Nd\": 57.5,\n",
    "    \"Pm\": 460000,\n",
    "    \"Sm\": 13.9,\n",
    "    \"Eu\": 31.4,\n",
    "    \"Gd\": 28.6,\n",
    "    \"Tb\": 658,\n",
    "    \"Dy\": 307,\n",
    "    \"Ho\": 57.1,\n",
    "    \"Er\": 26.4,\n",
    "    \"Tm\": 3000,\n",
    "    \"Yb\": 17.1,\n",
    "    \"Lu\": 643,\n",
    "    \"Hf\": 900,\n",
    "    \"Ta\": 312,\n",
    "    \"W\": 35.3,\n",
    "    \"Re\": 4150,\n",
    "    \"Os\": 12000,\n",
    "    \"Ir\": 56200,\n",
    "    \"Pt\": 27800,\n",
    "    \"Hg\": 30.2,\n",
    "    \"Tl\": 4200,\n",
    "    \"Pb\": 2,\n",
    "    \"Bi\": 6.36,\n",
    "    \"Po\": 49200000000000,\n",
    "    \"Ac\": 29000000000000,\n",
    "    \"Th\": 287,\n",
    "    \"Pa\": 280000,\n",
    "    \"U\": 101,\n",
    "    \"Np\": 660000,\n",
    "    \"Pu\": 6490000,\n",
    "    \"Am\": 750000,\n",
    "    \"Cm\": 160000000000,\n",
    "    \"Bk\": 185000000000,\n",
    "    \"Cf\": 185000000000,\n",
    "}"
   ]
  },
  {
   "cell_type": "code",
   "execution_count": 3,
   "metadata": {},
   "outputs": [],
   "source": [
    "# Funções locais\n",
    "\n",
    "def funcao_objetivo_pop(populacao):\n",
    "    return funcao_objetivo_pop_lt(populacao, preco, MASSA_MIN_ELEMENTO)"
   ]
  },
  {
   "cell_type": "code",
   "execution_count": 4,
   "metadata": {},
   "outputs": [
    {
     "name": "stdout",
     "output_type": "stream",
     "text": [
      "[['V', 39], ['Cf', 34], ['Cu', 27]]\n",
      "Maior preço: 6290000015.177\n",
      "[['Bk', 35], ['Tm', 57], ['Tb', 8]]\n",
      "Maior preço: 6475000176.264\n",
      "[['Np', 33], ['Pu', 23], ['Cf', 44]]\n",
      "Maior preço: 8140171050.0\n",
      "[['Cl', 64], ['Po', 17], ['Ca', 19]]\n",
      "Maior preço: 836400000000.0499\n",
      "[['Dy', 15], ['W', 47], ['Po', 38]]\n",
      "Maior preço: 1869600000006.2642\n",
      "[['Cm', 15], ['Po', 57], ['H', 28]]\n",
      "Maior preço: 2806800000000.039\n",
      "[['Ge', 32], ['Po', 59], ['Tl', 9]]\n",
      "Maior preço: 2902800000070.1196\n",
      "[['Y', 28], ['Po', 63], ['S', 9]]\n",
      "Maior preço: 3099600000000.869\n",
      "[['Po', 69], ['Ge', 22], ['Cl', 9]]\n",
      "Maior preço: 3394800000022.221\n",
      "[['Np', 19], ['Gd', 10], ['Po', 71]]\n",
      "Maior preço: 3493200012540.286\n",
      "[['Po', 79], ['Th', 10], ['Y', 11]]\n",
      "Maior preço: 3886800000003.211\n",
      "[['Po', 82], ['N', 7], ['Pt', 11]]\n",
      "Maior preço: 4034400000305.801\n",
      "[['Mg', 11], ['Po', 83], ['Os', 6]]\n",
      "Maior preço: 4083600000072.0254\n",
      "[['Po', 84], ['Tl', 7], ['Ir', 9]]\n",
      "Maior preço: 4132800000535.1997\n",
      "[['Be', 6], ['Tb', 7], ['Po', 87]]\n",
      "Maior preço: 4280400000009.748\n",
      "[['Ac', 10], ['Po', 84], ['Dy', 6]]\n",
      "Maior preço: 4422800000001.842\n",
      "[['Po', 86], ['Yb', 6], ['Ac', 8]]\n",
      "Maior preço: 4463200000000.103\n"
     ]
    }
   ],
   "source": [
    "# Busca por algoritmo genético\n",
    "\n",
    "populacao = cria_populacao_inicial(NUM_ELEMENTOS, MASSA_MAX, preco, TAMANHO_POP)\n",
    "\n",
    "# variaveis para o hall da fama\n",
    "melhor_fitness_ja_visto = 0.001\n",
    "melhor_individuo_ja_visto = [['Al', 35], ['Nb', 0], ['Gd', 65]]\n",
    "\n",
    "for n in range(NUM_GERACOES):\n",
    "\n",
    "    # Seleção\n",
    "    fitness = funcao_objetivo_pop(populacao)\n",
    "    populacao = funcao_selecao(populacao, fitness)\n",
    "\n",
    "    # Cruzamento\n",
    "    pais = populacao[0::2]\n",
    "    maes = populacao[1::2]\n",
    "\n",
    "    contador = 0\n",
    "\n",
    "    for pai, mae in zip(pais, maes):\n",
    "        if random.random() <= CHANCE_CRUZAMENTO:\n",
    "            filho1, filho2 = funcao_cruzamento(pai, mae)\n",
    "            populacao[contador] = filho1\n",
    "            populacao[contador + 1] = filho2\n",
    "\n",
    "        contador = contador + 2\n",
    "\n",
    "    # Mutação de elemento\n",
    "    for n in range(len(populacao)):\n",
    "        if random.random() <= CHANCE_MUTACAO_ELEMENTO:\n",
    "            individuo = populacao[n]\n",
    "            populacao[n] = mutacao_elemento_lt(individuo, preco)\n",
    "            \n",
    "    # Mutação de massa\n",
    "    for n in range(len(populacao)):\n",
    "        if random.random() <= CHANCE_MUTACAO_MASSA:\n",
    "            individuo = populacao[n]\n",
    "            populacao[n] = mutacao_massa_lt(individuo)\n",
    "\n",
    "    # melhor individuo já visto até agora (hall da fama)\n",
    "    fitness = funcao_objetivo_pop(populacao)\n",
    "    maior_fitness = max(fitness)\n",
    "    posicao = fitness.index(maior_fitness)\n",
    "    individuo = populacao[posicao].copy()\n",
    "    preco_maior = computa_preco_lt(individuo, preco)\n",
    "    if maior_fitness > melhor_fitness_ja_visto:\n",
    "        melhor_fitness_ja_visto = maior_fitness\n",
    "        melhor_individuo_ja_visto = individuo\n",
    "        print(melhor_individuo_ja_visto)\n",
    "        print(f\"Maior preço: {preco_maior}\")"
   ]
  },
  {
   "cell_type": "markdown",
   "metadata": {},
   "source": [
    "## Conclusão\n",
    "\n"
   ]
  },
  {
   "cell_type": "markdown",
   "metadata": {},
   "source": [
    "O problema da liga ternária possui diversas condicionais e possibilidades de escolha, apesar de possuir uma resposta \"óbvia\", a sua resolução por algoritmos genéticos abre espaço para diversas outras abordagens em problemas diferentes. Portanto, neste notebook, foi proposta uma abordagem de algoritmos genéticos que incluísse a categoria de \"cromossomo\", característico por possuir dois genes, sendo que o primeiro se referia ao elemento e o segunda à massa utilizada desse elemento, a ideia dessa abordagem era poder variar essas duas informações independentemente sem perder a relação entre elas. Portanto, a partir disso, foi imposta a restrição de massa máxima nas funções de criação da população, cruzamento e mutação. A condição de massa mínima dos elementos foi imposta como punição na função objetivo e, consequentemente, nos métodos de seleção. Por fim, foram obtidos resultados razoáveis para o problema, sendo que, em uma das simulações, o resultado obtido foi de uma liga ternária contendo $11 g$ de $Ac$, $6 g$ de $Bi$ e $83 g$ de $Po$, totalizando um preço de $4402600000000,038$ dinheiros."
   ]
  },
  {
   "cell_type": "markdown",
   "metadata": {},
   "source": [
    "## Playground\n",
    "\n"
   ]
  },
  {
   "cell_type": "markdown",
   "metadata": {},
   "source": [
    "Todo código de teste que não faz parte do seu experimento deve vir aqui. Este código não será considerado na avaliação.\n",
    "\n"
   ]
  },
  {
   "cell_type": "code",
   "execution_count": 5,
   "metadata": {},
   "outputs": [],
   "source": [
    "from funcoes import individuo_lt\n",
    "from funcoes import populacao_lt\n",
    "from funcoes import computa_preco_lt\n",
    "from funcoes import funcao_objetivo_lt\n",
    "from funcoes import cruzamento_lt\n",
    "from funcoes import mutacao_elemento_lt\n",
    "from funcoes import mutacao_massa_lt"
   ]
  },
  {
   "cell_type": "code",
   "execution_count": 6,
   "metadata": {},
   "outputs": [
    {
     "name": "stdout",
     "output_type": "stream",
     "text": [
      "[['Ac', 12], ['N', 30], ['Ni', 58]]\n",
      "[['Ce', 54], ['Er', 6], ['Os', 40]]\n"
     ]
    }
   ],
   "source": [
    "a = individuo_lt(3, 100, preco)\n",
    "b = individuo_lt(3, 100, preco)\n",
    "print(a)\n",
    "print(b)"
   ]
  },
  {
   "cell_type": "code",
   "execution_count": 7,
   "metadata": {},
   "outputs": [
    {
     "data": {
      "text/plain": [
       "([['Ac', 12], ['N', 30], ['Ni', 58]], [['Ce', 54], ['Er', 6], ['Os', 40]])"
      ]
     },
     "execution_count": 7,
     "metadata": {},
     "output_type": "execute_result"
    }
   ],
   "source": [
    "cruzamento_lt(a, b)"
   ]
  },
  {
   "cell_type": "code",
   "execution_count": 8,
   "metadata": {},
   "outputs": [
    {
     "data": {
      "text/plain": [
       "348000000000.8104"
      ]
     },
     "execution_count": 8,
     "metadata": {},
     "output_type": "execute_result"
    }
   ],
   "source": [
    "computa_preco_lt(a, preco)"
   ]
  },
  {
   "cell_type": "code",
   "execution_count": 9,
   "metadata": {},
   "outputs": [
    {
     "ename": "TypeError",
     "evalue": "funcao_objetivo_lt() missing 1 required positional argument: 'massa_min_elemento'",
     "output_type": "error",
     "traceback": [
      "\u001b[1;31m---------------------------------------------------------------------------\u001b[0m",
      "\u001b[1;31mTypeError\u001b[0m                                 Traceback (most recent call last)",
      "\u001b[1;32mC:\\Users\\GABRIE~1\\AppData\\Local\\Temp/ipykernel_24340/3214198151.py\u001b[0m in \u001b[0;36m<module>\u001b[1;34m\u001b[0m\n\u001b[1;32m----> 1\u001b[1;33m \u001b[0mfuncao_objetivo_lt\u001b[0m\u001b[1;33m(\u001b[0m\u001b[0ma\u001b[0m\u001b[1;33m,\u001b[0m \u001b[0mpreco\u001b[0m\u001b[1;33m)\u001b[0m\u001b[1;33m\u001b[0m\u001b[1;33m\u001b[0m\u001b[0m\n\u001b[0m",
      "\u001b[1;31mTypeError\u001b[0m: funcao_objetivo_lt() missing 1 required positional argument: 'massa_min_elemento'"
     ]
    }
   ],
   "source": [
    "funcao_objetivo_lt(a, preco)"
   ]
  },
  {
   "cell_type": "code",
   "execution_count": null,
   "metadata": {},
   "outputs": [],
   "source": [
    "populacao_lt(3, 100, preco, 20)"
   ]
  },
  {
   "cell_type": "code",
   "execution_count": null,
   "metadata": {},
   "outputs": [],
   "source": [
    "mutacao_elemento_lt(a, preco)"
   ]
  },
  {
   "cell_type": "code",
   "execution_count": null,
   "metadata": {},
   "outputs": [],
   "source": [
    "mutacao_massa_lt(a)"
   ]
  },
  {
   "cell_type": "code",
   "execution_count": null,
   "metadata": {},
   "outputs": [],
   "source": [
    "l = [1, 2, 3, 4]"
   ]
  },
  {
   "cell_type": "code",
   "execution_count": null,
   "metadata": {},
   "outputs": [],
   "source": []
  }
 ],
 "metadata": {
  "kernelspec": {
   "display_name": "ilumpy",
   "language": "python",
   "name": "ilumpy"
  },
  "language_info": {
   "codemirror_mode": {
    "name": "ipython",
    "version": 3
   },
   "file_extension": ".py",
   "mimetype": "text/x-python",
   "name": "python",
   "nbconvert_exporter": "python",
   "pygments_lexer": "ipython3",
   "version": "3.9.7"
  },
  "org": null
 },
 "nbformat": 4,
 "nbformat_minor": 4
}
