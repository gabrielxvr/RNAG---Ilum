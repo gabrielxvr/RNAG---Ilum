{
 "cells": [
  {
   "cell_type": "markdown",
   "metadata": {},
   "source": [
    "Liga ternária mais cara\n",
    "========================================\n",
    "\n"
   ]
  },
  {
   "cell_type": "markdown",
   "metadata": {},
   "source": [
    "## Introdução\n",
    "\n"
   ]
  },
  {
   "cell_type": "markdown",
   "metadata": {},
   "source": [
    "Esse código encontra uma liga ternária composta por $x$A.$y$B.$z$C sendo que $x+y+z = 100\\,\\mathrm{g}$, $x>5\\,\\mathrm{g}$, $y>5\\,\\mathrm{g}$, $z>5\\,\\mathrm{g}$ e &ldquo;A&rdquo;, &ldquo;B&rdquo; e &ldquo;C&rdquo; são elementos químicos. Sendo que a junção desses compostos é chamada de \"liga\".\n"
   ]
  },
  {
   "cell_type": "markdown",
   "metadata": {},
   "source": [
    "## Objetivo\n",
    "\n"
   ]
  },
  {
   "cell_type": "markdown",
   "metadata": {},
   "source": [
    "Utilizar Algoritmos Genéticos para calcular a liga ternária seguindo as limitações definidas.\n",
    "\n"
   ]
  },
  {
   "cell_type": "markdown",
   "metadata": {},
   "source": [
    "## Importações\n",
    "\n"
   ]
  },
  {
   "cell_type": "code",
   "execution_count": null,
   "metadata": {},
   "outputs": [],
   "source": []
  },
  {
   "cell_type": "markdown",
   "metadata": {},
   "source": [
    "## Códigos e discussão\n",
    "\n"
   ]
  },
  {
   "cell_type": "markdown",
   "metadata": {},
   "source": [
    "Irei inovar, vou pensar em um indivíduo contendo cromossomos e genes. O indivíduo conterá 3 cromossomos, sendo que cada um desses conterá 2 genes. Cada cromossomo irá se referir a um elemento, sendo que, dos 2 genes presentes no cromossomo, o primeiro será destinado para a quantidade do elemento e o segundo será destinado para o tipo do elemento.\n",
    "\n",
    "### Passo-a-passo\n",
    "\n",
    "- Criar uma função que gera indivíduos viáveis, nesse caso, indivíduos em que os genes de quantidade somem 100 g.\n",
    "\n",
    "- Criar uma função que gera uma população de indivíduos viáveis\n",
    "\n",
    "- Criar uma função que calcula o fitness para o problema, o qual corresponderá ao preço final da liga com uma punição quando qualquer um dos elementos possui quantidade menor que 5.\n",
    "\n",
    "- Criar uma função de cruzamento que mantenha a propriedade de soma 1.\n",
    "\n",
    "- Criar uma função de mutação que mantenha a propriedade de soma 1.\n",
    "\n",
    "- Utilizar a seleção por torneio de maximização."
   ]
  },
  {
   "cell_type": "code",
   "execution_count": 1,
   "metadata": {},
   "outputs": [],
   "source": [
    "# preço em dólares por kilograma\n",
    "preco = {\n",
    "    \"H\": 1.39,\n",
    "    \"He\": 24,\n",
    "    \"Li\": 85.6,\n",
    "    \"Be\": 857,\n",
    "    \"B\": 3.68,\n",
    "    \"C\": 0.122,\n",
    "    \"N\": 0.14,\n",
    "    \"O\": 0.154,\n",
    "    \"F\": 2.16,\n",
    "    \"Ne\": 240,\n",
    "    \"Na\": 3.43,\n",
    "    \"Mg\": 2.32,\n",
    "    \"Al\": 1.79,\n",
    "    \"Si\": 1.7,\n",
    "    \"P\": 2.69,\n",
    "    \"S\": 0.0926,\n",
    "    \"Cl\": 0.082,\n",
    "    \"Ar\": 0.931,\n",
    "    \"K\": 13.6,\n",
    "    \"Ca\": 2.35,\n",
    "    \"Sc\": 3460,\n",
    "    \"Ti\": 11.7,\n",
    "    \"V\": 385,\n",
    "    \"Cr\": 9.4,\n",
    "    \"Mn\": 1.82,\n",
    "    \"Fe\": 0.424,\n",
    "    \"Co\": 32.8,\n",
    "    \"Ni\": 13.9,\n",
    "    \"Cu\": 6,\n",
    "    \"Zn\": 2.55,\n",
    "    \"Ga\": 148,\n",
    "    \"Ge\": 1010,\n",
    "    \"As\": 1.31,\n",
    "    \"Se\": 21.4,\n",
    "    \"Br\": 4.39,\n",
    "    \"Kr\": 290,\n",
    "    \"Rb\": 15500,\n",
    "    \"Sr\": 6.68,\n",
    "    \"Y\": 31,\n",
    "    \"Nb\": 85.6,\n",
    "    \"Mo\": 40.1,\n",
    "    \"Tc\": 100000,\n",
    "    \"Ru\": 10600,\n",
    "    \"Rh\": 147000,\n",
    "    \"Pd\": 49500,\n",
    "    \"Ag\": 521,\n",
    "    \"Cd\": 2.73,\n",
    "    \"In\": 167,\n",
    "    \"Sn\": 18.7,\n",
    "    \"Sb\": 5.79,\n",
    "    \"Te\": 63.5,\n",
    "    \"I\": 35,\n",
    "    \"Xe\": 1800,\n",
    "    \"Cs\": 61800,\n",
    "    \"Ba\": 0.275,\n",
    "    \"La\": 4.92,\n",
    "    \"Ce\": 4.71,\n",
    "    \"Pr\": 103,\n",
    "    \"Nd\": 57.5,\n",
    "    \"Pm\": 460000,\n",
    "    \"Sm\": 13.9,\n",
    "    \"Eu\": 31.4,\n",
    "    \"Gd\": 28.6,\n",
    "    \"Tb\": 658,\n",
    "    \"Dy\": 307,\n",
    "    \"Ho\": 57.1,\n",
    "    \"Er\": 26.4,\n",
    "    \"Tm\": 3000,\n",
    "    \"Yb\": 17.1,\n",
    "    \"Lu\": 643,\n",
    "    \"Hf\": 900,\n",
    "    \"Ta\": 312,\n",
    "    \"W\": 35.3,\n",
    "    \"Re\": 4150,\n",
    "    \"Os\": 12000,\n",
    "    \"Ir\": 56200,\n",
    "    \"Pt\": 27800,\n",
    "    \"Hg\": 30.2,\n",
    "    \"Tl\": 4200,\n",
    "    \"Pb\": 2,\n",
    "    \"Bi\": 6.36,\n",
    "    \"Po\": 49200000000000,\n",
    "    \"Ac\": 29000000000000,\n",
    "    \"Th\": 287,\n",
    "    \"Pa\": 280000,\n",
    "    \"U\": 101,\n",
    "    \"Np\": 660000,\n",
    "    \"Pu\": 6490000,\n",
    "    \"Am\": 750000,\n",
    "    \"Cm\": 160000000000,\n",
    "    \"Bk\": 185000000000,\n",
    "    \"Cf\": 185000000000,\n",
    "}"
   ]
  },
  {
   "cell_type": "markdown",
   "metadata": {},
   "source": [
    "## Conclusão\n",
    "\n"
   ]
  },
  {
   "cell_type": "markdown",
   "metadata": {},
   "source": [
    "Delete este texto e escreva sua conclusão.\n",
    "\n"
   ]
  },
  {
   "cell_type": "markdown",
   "metadata": {},
   "source": [
    "## Referências consultadas\n",
    "\n"
   ]
  },
  {
   "cell_type": "markdown",
   "metadata": {},
   "source": [
    "1.  Delete este texto e inclua suas referências ordenadas numericamente. Se for referenciar no notebook, use o número entre colchetes (exemplo: para citar essa referência aqui escreva &ldquo;[1]&rdquo; sem as áspas).\n",
    "\n",
    "2.  Cada item deve ser numerado. Siga o padrão apresentado.\n",
    "\n",
    "3.  Caso não tenha nenhuma referência consultada, delete esta seção e o texto contido nela!\n",
    "\n"
   ]
  },
  {
   "cell_type": "markdown",
   "metadata": {},
   "source": [
    "## Playground\n",
    "\n"
   ]
  },
  {
   "cell_type": "markdown",
   "metadata": {},
   "source": [
    "Todo código de teste que não faz parte do seu experimento deve vir aqui. Este código não será considerado na avaliação.\n",
    "\n"
   ]
  }
 ],
 "metadata": {
  "kernelspec": {
   "display_name": "ilumpy",
   "language": "python",
   "name": "ilumpy"
  },
  "language_info": {
   "codemirror_mode": {
    "name": "ipython",
    "version": 3
   },
   "file_extension": ".py",
   "mimetype": "text/x-python",
   "name": "python",
   "nbconvert_exporter": "python",
   "pygments_lexer": "ipython3",
   "version": "3.9.7"
  },
  "org": null
 },
 "nbformat": 4,
 "nbformat_minor": 4
}
