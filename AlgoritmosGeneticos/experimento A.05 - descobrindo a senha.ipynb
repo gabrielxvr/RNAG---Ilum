{
 "cells": [
  {
   "cell_type": "markdown",
   "metadata": {},
   "source": [
    "Descobrindo a senha\n",
    "===================\n",
    "\n"
   ]
  },
  {
   "cell_type": "markdown",
   "metadata": {},
   "source": [
    "## Objetivo\n",
    "\n"
   ]
  },
  {
   "cell_type": "markdown",
   "metadata": {},
   "source": [
    "Usar um algoritmo genético para descobrir uma senha.\n",
    "\n"
   ]
  },
  {
   "cell_type": "markdown",
   "metadata": {},
   "source": [
    "## Descrição do problema\n",
    "\n"
   ]
  },
  {
   "cell_type": "markdown",
   "metadata": {},
   "source": [
    "Neste problema, a função objetivo deve saber a senha correta e quantificar de alguma maneira o quão perto ou longe os palpites estão da solução (veja que isso é algo que não temos no mundo real. Nenhum site irá te dizer se você está acertando ou errando seu palpite). O critério de parada deste problema é quando a senha for descoberta.\n",
    "\n"
   ]
  },
  {
   "cell_type": "markdown",
   "metadata": {},
   "source": [
    "## Importações\n",
    "\n"
   ]
  },
  {
   "cell_type": "code",
   "execution_count": 1,
   "metadata": {},
   "outputs": [],
   "source": [
    "import random\n",
    "from funcoes import populacao_ds\n",
    "from funcoes import selecao_por_torneio_ds as funcao_selecao\n",
    "from funcoes import cruzamento_ponto_simples as funcao_cruzamento\n",
    "from funcoes import mutacao_ds\n",
    "from funcoes import numero_para_caractere_individuo_ds\n",
    "from funcoes import senha_aleatoria_ds"
   ]
  },
  {
   "cell_type": "markdown",
   "metadata": {},
   "source": [
    "## Códigos e discussão\n",
    "\n"
   ]
  },
  {
   "cell_type": "code",
   "execution_count": 2,
   "metadata": {},
   "outputs": [],
   "source": [
    "# Passo a passo planejado\n",
    "\n",
    "# Vou trabalhar preferencialmente com números e convertê-los para caracteres somente no print\n",
    "\n",
    "# Criar uma função que entra um caractere e retorna o seu número correspondente\n",
    "# Criar uma função que entra um número e retorna o seu caractere correspondente\n",
    "# Criar uma função que gera uma senha de tamanho n aleatoriamente usando um conjunto de caracteres\n",
    "# Criar uma função que cria cada gene do indivíduo (caractere da senha)\n",
    "# Criar uma função que cria um indivíduo a partir dos caracteres disponíveis\n",
    "# Criar uma função que cria uma população a partir de um conjunto de indivíduos\n",
    "# Criar uma função que calcula a função objetivo de cada indivíduo\n",
    "# Criar uma função que calcula o fitness de cada indivíduo da população e armazena em uma lista\n",
    "# Criar uma função seleção por torneio\n",
    "# Criar uma função cruzamento\n",
    "# Criar uma função mutação\n",
    "\n",
    "# Tentar variar as funções de cruzamento\n",
    "# Tentar implementar o cruzamento ponto duplo ou o cruzamento uniforme\n",
    "\n",
    "# problemas: encontrar o mínimo da função fitness, isso será alterado na seleção"
   ]
  },
  {
   "cell_type": "code",
   "execution_count": 3,
   "metadata": {},
   "outputs": [],
   "source": [
    "# constantes de busca\n",
    "TAMANHO_POP = 12 # quantidade de indivíduos\n",
    "NUM_GERACOES = 10000 # número de gerações\n",
    "CHANCE_DE_COMPETIR_IND = 0.5 # chance que cada indivíduo tem de ser chamado para o torneio\n",
    "CHANCE_CRUZAMENTO = 0.5 # chance de ocorrer o cruzamento entre dois indivíduos\n",
    "CHANCE_MUTACAO = 0.02 # chance de ocorrer mutação em cada indivíduo durante cada geração\n",
    "\n",
    "# constantes de problema\n",
    "CARACTERES_STR = \"QWERTYUIOPASDFGHJKLÇZXCVBNMqwertyuiopasdfghjklçzxcvbnm1234567890\" # caracteres disponíveis em str para facilitar a digitação\n",
    "CARACTERES = list(CARACTERES_STR) # lista com todos os caracteres disponíveis\n",
    "NUM_GENES = 10 # número de genes ou tamanho da senha"
   ]
  },
  {
   "cell_type": "code",
   "execution_count": 4,
   "metadata": {},
   "outputs": [],
   "source": [
    "# funções locais\n",
    "\n",
    "def cria_populacao_inicial(tamanho, numero_genes): # torna a função populacao_ds independente dos caracteres disponíveis\n",
    "    return populacao_ds(tamanho, numero_genes, CARACTERES)\n",
    "\n",
    "def funcao_mutacao(individuo): # torna a função mutacao_ds independente dos caracteres disponíveis\n",
    "    return mutacao_ds(individuo, CARACTERES)"
   ]
  },
  {
   "cell_type": "code",
   "execution_count": 5,
   "metadata": {},
   "outputs": [
    {
     "name": "stdout",
     "output_type": "stream",
     "text": [
      "A senha sorteada foi: HOpDmGPDDV\n",
      "\n",
      "População inicial:\n",
      "Individuo  1 :  M18OjHdgTj\n",
      "Individuo  2 :  CclBnAafYd\n",
      "Individuo  3 :  O3XuMkYSiK\n",
      "Individuo  4 :  tÇ9nV30SSq\n",
      "Individuo  5 :  vzshoe8Pxw\n",
      "Individuo  6 :  mjuUQdU3fC\n",
      "Individuo  7 :  FGHLVZVWJL\n",
      "Individuo  8 :  GXdbYsBews\n",
      "Individuo  9 :  uçDamx1BLR\n",
      "Individuo  10 :  xdnOOU6XQt\n",
      "Individuo  11 :  qVmVDzmcMP\n",
      "Individuo  12 :  i2BNJsZVpa\n",
      "\n",
      "População final:\n",
      "Individuo  1 :  HOpDmpPDDV\n",
      "Individuo  2 :  HOpDmGPDDV\n",
      "Individuo  3 :  HOpDmGPDDV\n",
      "Individuo  4 :  HOpDmGPDDV\n",
      "Individuo  5 :  HOpDmGPDDV\n",
      "Individuo  6 :  HOpDmGPDDV\n",
      "Individuo  7 :  HOpDmGPDDV\n",
      "Individuo  8 :  HOpDmGPDDV\n",
      "Individuo  9 :  HOpDmpPDDV\n",
      "Individuo  10 :  HopDmGPDDV\n",
      "Individuo  11 :  HOpDmGPDDV\n",
      "Individuo  12 :  HOpDmGPDDV\n"
     ]
    }
   ],
   "source": [
    "senha = senha_aleatoria_ds(NUM_GENES, CARACTERES) # cria uma senha aleatória\n",
    "\n",
    "print('A senha sorteada foi:', \"\".join(senha)) # mostra qual foi a senha criada\n",
    "\n",
    "print()\n",
    "\n",
    "populacao = cria_populacao_inicial(TAMANHO_POP, NUM_GENES) # cria aleatoriamente uma população inicial\n",
    "\n",
    "print('População inicial:') # mostra qual foi a população criada aleatoriamente\n",
    "for i, ind in enumerate(populacao):\n",
    "    print('Individuo ', i+1, ': ', \"\".join(numero_para_caractere_individuo_ds(ind)))\n",
    "    \n",
    "for _ in range(NUM_GERACOES): # loop que começa a rodar cada geração\n",
    "    \n",
    "    # Única alteração na estrutura do código\n",
    "    populacao = funcao_selecao(populacao, CHANCE_DE_COMPETIR_IND, senha) # Tem a função de sortear individuos na população e troca-los pelo melhor entre eles\n",
    "    \n",
    "    pais = populacao[0::2] # definição dos indivíduos que serão pais\n",
    "    maes = populacao[1::2] # definição dos indivíduos que serão mães\n",
    "    contador = 0 # estratégia para colocar os filhos no lugar dos pais\n",
    "    for pai, mae in zip(pais, maes): # laço de repetição para pegar itens da lista de pais e mães\n",
    "        if random.random() < CHANCE_CRUZAMENTO: # aplicando a possibilidade de cruzamento\n",
    "            # vai acertar o cruzamento\n",
    "            filho1, filho2 = funcao_cruzamento(pai, mae) # \"calculando\" o filho 1 e o filho 2\n",
    "            populacao[contador] = filho1 # trocando o pai pelo filho 1\n",
    "            populacao[contador + 1] = filho2 # trocando a mãe pelo filho 2\n",
    "            \n",
    "        contador = contador + 2 # atualização do contador\n",
    "    \n",
    "    for n in range(len(populacao)): #laço de repetição para mutação\n",
    "        if random.random() <= CHANCE_MUTACAO: # chance de mutação\n",
    "            individuo = populacao[n] # escolhe o indivíduo\n",
    "            populacao[n] = funcao_mutacao(individuo) # muta o indivíduo\n",
    "        \n",
    "print()\n",
    "print('População final:') # mostra qual foi a população final selecionada geneticamente\n",
    "for i, ind in enumerate(populacao):\n",
    "    print('Individuo ', i+1, ': ', \"\".join(numero_para_caractere_individuo_ds(ind)))"
   ]
  },
  {
   "cell_type": "markdown",
   "metadata": {},
   "source": [
    "## Conclusão\n",
    "\n"
   ]
  },
  {
   "cell_type": "markdown",
   "metadata": {},
   "source": [
    "O problema descobrindo a senha é um ótimo exemplo para as vantagens de se usar os Algoritmos Genéticos, pois, se a resposta fosse ser testada por grade, haveria um número de possibilidades igual ao tamanho da senha elevado ao número de caracteres disponíveis, ou seja, incontáveis possibilidades, impossibilitando também uma busca aleatória, no entanto, ao programar um algoritmo genético, é possível descobrir, ou pelo menos chegar muito perto da resposta com pouquíssimo gasto computacional. Para mim, além do aprendizado, a conclusão desse algoritmo foi um desafio em que eu pude trabalhar a minha criatividade e organização.\n",
    "\n",
    "\n",
    "## Observações:\n",
    "\n",
    "Daria para adicionar a existência de um indivíduo que responde corretamente à senha parando a iteração quando a função objetivo de um dos individuos resultasse em zero, sendo esse indivíduo correspondente à senha correta. Além disso, seria possível mudar a função objetivo, de forma a considerar a soma dos quadrados dos erros cometidos, talvez essa estratégia faria com que a resposta fosse encontrada com um número menor de gerações, mas poderia diminuir a diversidade."
   ]
  },
  {
   "cell_type": "markdown",
   "metadata": {},
   "source": [
    "## Playground\n",
    "\n"
   ]
  },
  {
   "cell_type": "code",
   "execution_count": 6,
   "metadata": {},
   "outputs": [],
   "source": [
    "import random as rd"
   ]
  },
  {
   "cell_type": "code",
   "execution_count": 7,
   "metadata": {},
   "outputs": [],
   "source": [
    "def gene_ds(valor_max_caixa):\n",
    "    \"\"\"Gera um gene válido para o problema descobrindo a senha\n",
    "    \n",
    "    Args:\n",
    "        valor_max_caixa: Valor máximo que a caixa pode assumir\n",
    "    \n",
    "    Return:\n",
    "        Um valor entre zero e o máximo.\n",
    "    \"\"\"\n",
    "    gene = rd.randint(0, valor_max_caixa)\n",
    "    return gene"
   ]
  },
  {
   "cell_type": "code",
   "execution_count": 8,
   "metadata": {},
   "outputs": [
    {
     "data": {
      "text/plain": [
       "2"
      ]
     },
     "execution_count": 8,
     "metadata": {},
     "output_type": "execute_result"
    }
   ],
   "source": [
    "gene_ds(10)"
   ]
  },
  {
   "cell_type": "code",
   "execution_count": 9,
   "metadata": {},
   "outputs": [
    {
     "data": {
      "text/plain": [
       "4"
      ]
     },
     "execution_count": 9,
     "metadata": {},
     "output_type": "execute_result"
    }
   ],
   "source": [
    "INDIVIDUO = [3, 8, 5, 2]\n",
    "SENHA = [2, 9, 4, 1]\n",
    "\n",
    "def funcao_objetivo_ds(individuo, senha):\n",
    "    \"\"\"Computa qual é a função objetivo do problema descobrindo a senha\n",
    "    \n",
    "    Args:\n",
    "        individuo: lista contendo os genes das caixas não binárias\n",
    "        senha: a senha verdadeira\n",
    "        \n",
    "    Return:\n",
    "        Um valor representando o erro médio quadrado do indivíduo\n",
    "    \"\"\"\n",
    "    fitness = 0\n",
    "    for i in range(len(individuo)):\n",
    "        fitness = fitness + (individuo[i] - senha[i])**2\n",
    "    return fitness\n",
    "\n",
    "funcao_objetivo_ds(INDIVIDUO, SENHA)"
   ]
  },
  {
   "cell_type": "code",
   "execution_count": 10,
   "metadata": {},
   "outputs": [],
   "source": [
    "def caracteres_para_numeros(caracteres):\n",
    "    \"\"\"Cria uma função que converse caracteres para números\n",
    "    \n",
    "    Args:\n",
    "        caracteres: uma lista com todos os caracteres que poderão ser utilizados\n",
    "         \n",
    "    Return:\n",
    "        uma lista com os valores em números dos caracteres\n",
    "    \"\"\"\n",
    "    numeros = []\n",
    "    for caractere in caracteres:\n",
    "        numero = ord(caractere)\n",
    "        numeros.append(numero)\n",
    "    \n",
    "    return numeros"
   ]
  },
  {
   "cell_type": "code",
   "execution_count": 11,
   "metadata": {},
   "outputs": [
    {
     "data": {
      "text/plain": [
       "2"
      ]
     },
     "execution_count": 11,
     "metadata": {},
     "output_type": "execute_result"
    }
   ],
   "source": [
    "abs(-2)"
   ]
  },
  {
   "cell_type": "code",
   "execution_count": 12,
   "metadata": {},
   "outputs": [
    {
     "data": {
      "text/plain": [
       "True"
      ]
     },
     "execution_count": 12,
     "metadata": {},
     "output_type": "execute_result"
    }
   ],
   "source": [
    "rd.random() > 0.3"
   ]
  },
  {
   "cell_type": "code",
   "execution_count": 13,
   "metadata": {},
   "outputs": [],
   "source": [
    "POPULACAO = [[4, 1, 3], [2, 12, 8], [9, 3, 4], [14, 18, 1]]\n",
    "SENHA = [\"A\", \"b\", \"r\"]\n",
    "CHANCE_DE_PARTICIPAR = 0.5\n",
    "\n",
    "from funcoes import selecao_por_torneio_ds"
   ]
  },
  {
   "cell_type": "code",
   "execution_count": 14,
   "metadata": {},
   "outputs": [
    {
     "data": {
      "text/plain": [
       "[[4, 1, 3], [2, 12, 8], [9, 3, 4], [14, 18, 1]]"
      ]
     },
     "execution_count": 14,
     "metadata": {},
     "output_type": "execute_result"
    }
   ],
   "source": [
    "selecao_por_torneio_ds(POPULACAO, CHANCE_DE_PARTICIPAR, SENHA)"
   ]
  },
  {
   "cell_type": "code",
   "execution_count": 15,
   "metadata": {},
   "outputs": [],
   "source": [
    "asa = \"siaiujaikpodkasihiuaei\""
   ]
  },
  {
   "cell_type": "code",
   "execution_count": 16,
   "metadata": {},
   "outputs": [
    {
     "data": {
      "text/plain": [
       "['s',\n",
       " 'i',\n",
       " 'a',\n",
       " 'i',\n",
       " 'u',\n",
       " 'j',\n",
       " 'a',\n",
       " 'i',\n",
       " 'k',\n",
       " 'p',\n",
       " 'o',\n",
       " 'd',\n",
       " 'k',\n",
       " 'a',\n",
       " 's',\n",
       " 'i',\n",
       " 'h',\n",
       " 'i',\n",
       " 'u',\n",
       " 'a',\n",
       " 'e',\n",
       " 'i']"
      ]
     },
     "execution_count": 16,
     "metadata": {},
     "output_type": "execute_result"
    }
   ],
   "source": [
    "list(asa)"
   ]
  },
  {
   "cell_type": "code",
   "execution_count": null,
   "metadata": {},
   "outputs": [],
   "source": []
  }
 ],
 "metadata": {
  "kernelspec": {
   "display_name": "ilumpy",
   "language": "python",
   "name": "ilumpy"
  },
  "language_info": {
   "codemirror_mode": {
    "name": "ipython",
    "version": 3
   },
   "file_extension": ".py",
   "mimetype": "text/x-python",
   "name": "python",
   "nbconvert_exporter": "python",
   "pygments_lexer": "ipython3",
   "version": "3.9.7"
  },
  "org": null
 },
 "nbformat": 4,
 "nbformat_minor": 4
}
