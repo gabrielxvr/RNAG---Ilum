{
 "cells": [
  {
   "cell_type": "markdown",
   "metadata": {},
   "source": [
    "Problema das caixas não-binárias\n",
    "================================\n",
    "\n"
   ]
  },
  {
   "cell_type": "markdown",
   "metadata": {},
   "source": [
    "## Objetivo\n",
    "\n"
   ]
  },
  {
   "cell_type": "markdown",
   "metadata": {},
   "source": [
    "Encontrar uma solução para o problema das caixas não-binárias usando um algoritmo genético. Considere 4 caixas. Considere que cada caixa pode ter um valor inteiro dentro do conjunto [0, 100].\n",
    "\n"
   ]
  },
  {
   "cell_type": "markdown",
   "metadata": {},
   "source": [
    "## Descrição do problema\n",
    "\n"
   ]
  },
  {
   "cell_type": "markdown",
   "metadata": {},
   "source": [
    "O problema das caixas não-binárias é simples: nós temos um certo número de caixas e cada uma pode conter um número inteiro. O objetivo é encontrar uma combinação de caixas onde a soma dos valores contidos dentro delas é máximo.\n",
    "\n"
   ]
  },
  {
   "cell_type": "markdown",
   "metadata": {},
   "source": [
    "## Importações\n",
    "\n"
   ]
  },
  {
   "cell_type": "code",
   "execution_count": 1,
   "metadata": {},
   "outputs": [],
   "source": [
    "import random\n",
    "from funcoes import populacao_cnb\n",
    "from funcoes import funcao_objetivo_pop_cnb as funcao_objetivo_pop\n",
    "from funcoes import selecao_roleta_max as funcao_selecao\n",
    "from funcoes import cruzamento_ponto_simples as funcao_cruzamento\n",
    "from funcoes import mutacao_cnb"
   ]
  },
  {
   "cell_type": "markdown",
   "metadata": {},
   "source": [
    "## Códigos e discussão\n",
    "\n"
   ]
  },
  {
   "cell_type": "code",
   "execution_count": 2,
   "metadata": {},
   "outputs": [],
   "source": [
    "# Constantes de busca\n",
    "\n",
    "TAMANHO_POP = 12 # quantidade de indivíduos\n",
    "NUM_GERACOES = 10000 # número de gerações\n",
    "CHANCE_CRUZAMENTO = 0.5 # chance de ocorrer o cruzamento entre dois indivíduos\n",
    "CHANCE_MUTACAO = 0.02 # chance de ocorrer mutação em cada indivíduo durante cada geração\n",
    "\n",
    "# Constantes de problema\n",
    "VALOR_MAX_CAIXA = 100 # quantidade de valor máximo que um gene pode assumir\n",
    "NUM_GENES = 4 # quantidade de genes presentes em cada indivíduo"
   ]
  },
  {
   "cell_type": "code",
   "execution_count": 3,
   "metadata": {},
   "outputs": [],
   "source": [
    "# Funções Locais\n",
    "\n",
    "def cria_populacao_inicial(tamanho, numero_genes):\n",
    "    return populacao_cnb(tamanho, numero_genes, VALOR_MAX_CAIXA)\n",
    "\n",
    "def funcao_mutacao(individuo):\n",
    "    return mutacao_cnb(individuo, VALOR_MAX_CAIXA)"
   ]
  },
  {
   "cell_type": "code",
   "execution_count": 4,
   "metadata": {},
   "outputs": [
    {
     "name": "stdout",
     "output_type": "stream",
     "text": [
      "População inicial:\n",
      "Individuo  1 :  [18, 79, 90, 90]\n",
      "Individuo  2 :  [14, 99, 82, 29]\n",
      "Individuo  3 :  [53, 84, 3, 24]\n",
      "Individuo  4 :  [54, 29, 71, 84]\n",
      "Individuo  5 :  [20, 75, 48, 34]\n",
      "Individuo  6 :  [25, 17, 86, 73]\n",
      "Individuo  7 :  [98, 64, 72, 77]\n",
      "Individuo  8 :  [63, 65, 7, 63]\n",
      "Individuo  9 :  [93, 40, 67, 1]\n",
      "Individuo  10 :  [35, 45, 41, 73]\n",
      "Individuo  11 :  [32, 84, 7, 89]\n",
      "Individuo  12 :  [67, 30, 42, 28]\n",
      "\n",
      "População final:\n",
      "Individuo  1 :  [88, 77, 71, 88]\n",
      "Individuo  2 :  [88, 77, 71, 88]\n",
      "Individuo  3 :  [88, 77, 71, 88]\n",
      "Individuo  4 :  [88, 77, 71, 88]\n",
      "Individuo  5 :  [88, 77, 71, 88]\n",
      "Individuo  6 :  [88, 77, 71, 88]\n",
      "Individuo  7 :  [88, 77, 71, 88]\n",
      "Individuo  8 :  [88, 77, 71, 88]\n",
      "Individuo  9 :  [88, 77, 71, 88]\n",
      "Individuo  10 :  [88, 77, 71, 88]\n",
      "Individuo  11 :  [88, 77, 71, 88]\n",
      "Individuo  12 :  [88, 77, 71, 88]\n"
     ]
    }
   ],
   "source": [
    "populacao = cria_populacao_inicial(TAMANHO_POP, NUM_GENES) # cria aleatoriamente uma população inicial\n",
    "\n",
    "print('População inicial:') # mostra qual foi a população criada aleatoriamente\n",
    "for i, ind in enumerate(populacao):\n",
    "    print('Individuo ', i+1, ': ', ind)\n",
    "\n",
    "for _ in range(NUM_GERACOES): # loop que começa a rodar cada geração\n",
    "    fitness = funcao_objetivo_pop(populacao) # cálculo da função objetivo de cada indivíduo da população\n",
    "    populacao = funcao_selecao(populacao, fitness) # seleção de roleta com diferentes pesos, baseados na função fitness\n",
    "    \n",
    "    pais = populacao[0::2] # definição dos indivíduos que serão pais\n",
    "    maes = populacao[1::2] # definição dos indivíduos que serão mães\n",
    "    contador = 0 # estratégia para colocar os filhos no lugar dos pais\n",
    "    for pai, mae in zip(pais, maes): # laço de repetição para pegar itens da lista de pais e mães\n",
    "        if random.random() < CHANCE_CRUZAMENTO: # aplicando a possibilidade de cruzamento\n",
    "            # vai acertar o cruzamento\n",
    "            filho1, filho2 = funcao_cruzamento(pai, mae) # \"calculando\" o filho 1 e o filho 2\n",
    "            populacao[contador] = filho1 # trocando o pai pelo filho 1\n",
    "            populacao[contador + 1] = filho2 # trocando a mãe pelo filho 2\n",
    "            \n",
    "        contador = contador + 2 # atualização do contador\n",
    "    \n",
    "    for n in range(len(populacao)): #laço de repetição para mutação\n",
    "        if random.random() <= CHANCE_MUTACAO: # chance de mutação\n",
    "            individuo = populacao[n] # esxolhe o indivíduo\n",
    "            populacao[n] = funcao_mutacao(individuo) # muta o indivíduo\n",
    "        \n",
    "    \n",
    "print()\n",
    "print('População final:') # mostra qual foi a população final selecionada geneticamente\n",
    "for i, ind in enumerate(populacao):\n",
    "    print('Individuo ', i+1, ': ', ind)"
   ]
  },
  {
   "cell_type": "markdown",
   "metadata": {},
   "source": [
    "## Conclusão\n",
    "\n"
   ]
  },
  {
   "cell_type": "markdown",
   "metadata": {},
   "source": [
    "O problema de caixas não binárias é computacionalmente complexo. Portanto, é interessante usar os algoritmos genéticos para encontrar soluções que, apesar de probabilísticas, chegam a resultados satisfatórios utilizando pouco processamento. Além disso, a abordagem de caixas não binárias permite compreender melhor a influência das constantes de busca para o resultado. Sobre a resolução adotada, foi muito interessante trabalhar com funções locais e entender a lógica de utilização delas. Por fim, acredito que o experimento foi muito para entender a lógica dos algoritmos genéticos e algumas outras ferramentas do Python."
   ]
  },
  {
   "cell_type": "markdown",
   "metadata": {},
   "source": [
    "## Playground\n",
    "\n"
   ]
  },
  {
   "cell_type": "code",
   "execution_count": null,
   "metadata": {},
   "outputs": [],
   "source": []
  }
 ],
 "metadata": {
  "kernelspec": {
   "display_name": "ilumpy",
   "language": "python",
   "name": "ilumpy"
  },
  "language_info": {
   "codemirror_mode": {
    "name": "ipython",
    "version": 3
   },
   "file_extension": ".py",
   "mimetype": "text/x-python",
   "name": "python",
   "nbconvert_exporter": "python",
   "pygments_lexer": "ipython3",
   "version": "3.9.7"
  },
  "org": null
 },
 "nbformat": 4,
 "nbformat_minor": 4
}
